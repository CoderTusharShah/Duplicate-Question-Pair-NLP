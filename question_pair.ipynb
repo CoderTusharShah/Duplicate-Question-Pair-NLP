{
 "cells": [
  {
   "cell_type": "markdown",
   "id": "2a1eccc9-d967-4674-bcbb-eb4c0d143b31",
   "metadata": {},
   "source": [
    "## Libraries and Dataset"
   ]
  },
  {
   "cell_type": "code",
   "execution_count": 1,
   "id": "b17349e4-fca4-42b0-ba83-de99078aa40a",
   "metadata": {},
   "outputs": [],
   "source": [
    "import warnings\n",
    "warnings.filterwarnings(\"ignore\")\n",
    "\n",
    "import pandas as pd\n",
    "import numpy as np\n",
    "import matplotlib\n",
    "import matplotlib.pyplot as plt\n",
    "import seaborn as sns\n",
    "\n",
    "from bs4 import BeautifulSoup\n",
    "from sklearn.metrics import accuracy_score\n",
    "from nltk.stem import PorterStemmer\n",
    "from nltk.stem import WordNetLemmatizer\n",
    "from gensim.models import Word2Vec\n",
    "from sklearn.metrics import accuracy_score\n",
    "import re\n",
    "from sklearn.model_selection import train_test_split"
   ]
  },
  {
   "cell_type": "code",
   "execution_count": 2,
   "id": "f55eb952-94fb-4553-86b7-c6eb673dfd87",
   "metadata": {},
   "outputs": [],
   "source": [
    "import nltk\n",
    "from nltk.stem import WordNetLemmatizer\n",
    "from nltk.tokenize import word_tokenize"
   ]
  },
  {
   "cell_type": "code",
   "execution_count": 3,
   "id": "37cb35a7-b8ac-408f-ad17-81a1f9cefa29",
   "metadata": {},
   "outputs": [],
   "source": [
    "matplotlib.style.use('seaborn-white')\n",
    "matplotlib.rcParams['font.size'] = 18\n",
    "matplotlib.rcParams['figure.figsize'] = (8,6)\n",
    "matplotlib.rcParams['figure.facecolor'] = '#00000000'\n",
    "matplotlib.rcParams[\"font.weight\"] = \"bold\"\n",
    "matplotlib.rc('axes', labelsize=14, titlesize=14)\n",
    "matplotlib.rc('legend', fontsize=14)\n",
    "matplotlib.rc('xtick', labelsize=10)\n",
    "matplotlib.rc('ytick', labelsize=10)\n",
    "\n",
    "colors = ['#40128B','#DD58D6']"
   ]
  },
  {
   "cell_type": "code",
   "execution_count": 4,
   "id": "5841afbf-025c-406a-8cb1-3e54349907d8",
   "metadata": {},
   "outputs": [],
   "source": [
    "df = pd.read_csv(\"C:/Users/HP/FOR PRIMARY THINGS/Question-Pair ( NLP )/train.csv\")"
   ]
  },
  {
   "cell_type": "code",
   "execution_count": 5,
   "id": "3ca25ad3-3e06-40a2-acc7-a6c4aa8dd847",
   "metadata": {},
   "outputs": [
    {
     "data": {
      "text/html": [
       "<div>\n",
       "<style scoped>\n",
       "    .dataframe tbody tr th:only-of-type {\n",
       "        vertical-align: middle;\n",
       "    }\n",
       "\n",
       "    .dataframe tbody tr th {\n",
       "        vertical-align: top;\n",
       "    }\n",
       "\n",
       "    .dataframe thead th {\n",
       "        text-align: right;\n",
       "    }\n",
       "</style>\n",
       "<table border=\"1\" class=\"dataframe\">\n",
       "  <thead>\n",
       "    <tr style=\"text-align: right;\">\n",
       "      <th></th>\n",
       "      <th>id</th>\n",
       "      <th>qid1</th>\n",
       "      <th>qid2</th>\n",
       "      <th>question1</th>\n",
       "      <th>question2</th>\n",
       "      <th>is_duplicate</th>\n",
       "    </tr>\n",
       "  </thead>\n",
       "  <tbody>\n",
       "    <tr>\n",
       "      <th>58129</th>\n",
       "      <td>58129</td>\n",
       "      <td>48102</td>\n",
       "      <td>102042</td>\n",
       "      <td>Will there be another big World War? If so, wh...</td>\n",
       "      <td>Are we going to see the next world war?</td>\n",
       "      <td>1</td>\n",
       "    </tr>\n",
       "    <tr>\n",
       "      <th>325454</th>\n",
       "      <td>325454</td>\n",
       "      <td>451704</td>\n",
       "      <td>209580</td>\n",
       "      <td>Why did oil prices fall again in 2015?</td>\n",
       "      <td>Why did oil prices plummet in 2014 and 2015?</td>\n",
       "      <td>1</td>\n",
       "    </tr>\n",
       "    <tr>\n",
       "      <th>334480</th>\n",
       "      <td>334480</td>\n",
       "      <td>461654</td>\n",
       "      <td>80639</td>\n",
       "      <td>Who would be king if Prince Charles dies befor...</td>\n",
       "      <td>Does Queen Elizabeth II own 1/6 of Earth’s land?</td>\n",
       "      <td>0</td>\n",
       "    </tr>\n",
       "    <tr>\n",
       "      <th>318542</th>\n",
       "      <td>318542</td>\n",
       "      <td>443906</td>\n",
       "      <td>443907</td>\n",
       "      <td>How can I improve my business skills?</td>\n",
       "      <td>What can I do to improve my business skills?</td>\n",
       "      <td>1</td>\n",
       "    </tr>\n",
       "    <tr>\n",
       "      <th>268653</th>\n",
       "      <td>268653</td>\n",
       "      <td>386255</td>\n",
       "      <td>386256</td>\n",
       "      <td>What is the actual chronological order of the ...</td>\n",
       "      <td>What is your review of Terminator Genisys (201...</td>\n",
       "      <td>0</td>\n",
       "    </tr>\n",
       "    <tr>\n",
       "      <th>97734</th>\n",
       "      <td>97734</td>\n",
       "      <td>162560</td>\n",
       "      <td>162561</td>\n",
       "      <td>Why should I buy vs. lease a luxury car?</td>\n",
       "      <td>Is it better to buy or lease a luxury sports car?</td>\n",
       "      <td>1</td>\n",
       "    </tr>\n",
       "    <tr>\n",
       "      <th>19320</th>\n",
       "      <td>19320</td>\n",
       "      <td>36510</td>\n",
       "      <td>36511</td>\n",
       "      <td>What is the one thing you regret doing or not ...</td>\n",
       "      <td>What is the one thing you regret not doing in ...</td>\n",
       "      <td>1</td>\n",
       "    </tr>\n",
       "    <tr>\n",
       "      <th>360812</th>\n",
       "      <td>360812</td>\n",
       "      <td>47244</td>\n",
       "      <td>89340</td>\n",
       "      <td>How does one become a celebrity?</td>\n",
       "      <td>What is the easiest way to become a celebrity?</td>\n",
       "      <td>1</td>\n",
       "    </tr>\n",
       "    <tr>\n",
       "      <th>71355</th>\n",
       "      <td>71355</td>\n",
       "      <td>122803</td>\n",
       "      <td>122804</td>\n",
       "      <td>What are the ways to spread atheism?</td>\n",
       "      <td>What is the best way for a 25 y o student with...</td>\n",
       "      <td>0</td>\n",
       "    </tr>\n",
       "    <tr>\n",
       "      <th>255101</th>\n",
       "      <td>255101</td>\n",
       "      <td>38442</td>\n",
       "      <td>8378</td>\n",
       "      <td>Has anyone tried to harness the energy from li...</td>\n",
       "      <td>Can we harness electrical power from the light...</td>\n",
       "      <td>1</td>\n",
       "    </tr>\n",
       "  </tbody>\n",
       "</table>\n",
       "</div>"
      ],
      "text/plain": [
       "            id    qid1    qid2  \\\n",
       "58129    58129   48102  102042   \n",
       "325454  325454  451704  209580   \n",
       "334480  334480  461654   80639   \n",
       "318542  318542  443906  443907   \n",
       "268653  268653  386255  386256   \n",
       "97734    97734  162560  162561   \n",
       "19320    19320   36510   36511   \n",
       "360812  360812   47244   89340   \n",
       "71355    71355  122803  122804   \n",
       "255101  255101   38442    8378   \n",
       "\n",
       "                                                question1  \\\n",
       "58129   Will there be another big World War? If so, wh...   \n",
       "325454             Why did oil prices fall again in 2015?   \n",
       "334480  Who would be king if Prince Charles dies befor...   \n",
       "318542              How can I improve my business skills?   \n",
       "268653  What is the actual chronological order of the ...   \n",
       "97734            Why should I buy vs. lease a luxury car?   \n",
       "19320   What is the one thing you regret doing or not ...   \n",
       "360812                   How does one become a celebrity?   \n",
       "71355                What are the ways to spread atheism?   \n",
       "255101  Has anyone tried to harness the energy from li...   \n",
       "\n",
       "                                                question2  is_duplicate  \n",
       "58129             Are we going to see the next world war?             1  \n",
       "325454       Why did oil prices plummet in 2014 and 2015?             1  \n",
       "334480   Does Queen Elizabeth II own 1/6 of Earth’s land?             0  \n",
       "318542       What can I do to improve my business skills?             1  \n",
       "268653  What is your review of Terminator Genisys (201...             0  \n",
       "97734   Is it better to buy or lease a luxury sports car?             1  \n",
       "19320   What is the one thing you regret not doing in ...             1  \n",
       "360812     What is the easiest way to become a celebrity?             1  \n",
       "71355   What is the best way for a 25 y o student with...             0  \n",
       "255101  Can we harness electrical power from the light...             1  "
      ]
     },
     "execution_count": 5,
     "metadata": {},
     "output_type": "execute_result"
    }
   ],
   "source": [
    "df.sample(10)"
   ]
  },
  {
   "cell_type": "code",
   "execution_count": 6,
   "id": "057256c3-e753-4fd9-bb92-280182c33bd9",
   "metadata": {},
   "outputs": [
    {
     "data": {
      "text/plain": [
       "(404290, 6)"
      ]
     },
     "execution_count": 6,
     "metadata": {},
     "output_type": "execute_result"
    }
   ],
   "source": [
    "df.shape"
   ]
  },
  {
   "cell_type": "code",
   "execution_count": 7,
   "id": "898a6447-c43c-4e3d-944f-e6074be77ae6",
   "metadata": {},
   "outputs": [
    {
     "name": "stdout",
     "output_type": "stream",
     "text": [
      "<class 'pandas.core.frame.DataFrame'>\n",
      "RangeIndex: 404290 entries, 0 to 404289\n",
      "Data columns (total 6 columns):\n",
      " #   Column        Non-Null Count   Dtype \n",
      "---  ------        --------------   ----- \n",
      " 0   id            404290 non-null  int64 \n",
      " 1   qid1          404290 non-null  int64 \n",
      " 2   qid2          404290 non-null  int64 \n",
      " 3   question1     404289 non-null  object\n",
      " 4   question2     404288 non-null  object\n",
      " 5   is_duplicate  404290 non-null  int64 \n",
      "dtypes: int64(4), object(2)\n",
      "memory usage: 18.5+ MB\n"
     ]
    }
   ],
   "source": [
    "df.info()"
   ]
  },
  {
   "cell_type": "code",
   "execution_count": 8,
   "id": "43526429-095f-4405-8063-ee6b8b1cd71c",
   "metadata": {},
   "outputs": [
    {
     "data": {
      "text/plain": [
       "id              0\n",
       "qid1            0\n",
       "qid2            0\n",
       "question1       1\n",
       "question2       2\n",
       "is_duplicate    0\n",
       "dtype: int64"
      ]
     },
     "execution_count": 8,
     "metadata": {},
     "output_type": "execute_result"
    }
   ],
   "source": [
    "df.isna().sum()"
   ]
  },
  {
   "cell_type": "markdown",
   "id": "838dea2a-c475-4e3a-96cc-be6c197ff0e1",
   "metadata": {},
   "source": [
    "## EDA - I"
   ]
  },
  {
   "cell_type": "markdown",
   "id": "8cb4698e-e0f1-414e-9de2-98fbeecd319f",
   "metadata": {},
   "source": [
    "* ##### As the dataset is very large, we can drop those rows"
   ]
  },
  {
   "cell_type": "code",
   "execution_count": 9,
   "id": "64e1754a-cb60-4d73-b9e1-af9897eb6003",
   "metadata": {},
   "outputs": [],
   "source": [
    "df.dropna(inplace = True)"
   ]
  },
  {
   "cell_type": "code",
   "execution_count": 10,
   "id": "be1f5044-55b9-4e36-9800-46264f6fccf4",
   "metadata": {},
   "outputs": [
    {
     "name": "stdout",
     "output_type": "stream",
     "text": [
      "(149263, 6)\n",
      "(255024, 6)\n"
     ]
    }
   ],
   "source": [
    "# Distribution of duplicate and non-duplicate questions\n",
    "\n",
    "duplicate = df[df['is_duplicate'] == 1]\n",
    "non_duplicate = df[df['is_duplicate'] == 0]\n",
    "\n",
    "print(duplicate.shape)\n",
    "print(non_duplicate.shape)"
   ]
  },
  {
   "cell_type": "code",
   "execution_count": 11,
   "id": "4bcb5897-0a84-4ad8-ae18-371a06367d76",
   "metadata": {},
   "outputs": [
    {
     "data": {
      "image/png": "[encoded data removed]",
      "text/plain": [
       "<Figure size 576x432 with 1 Axes>"
      ]
     },
     "metadata": {
      "needs_background": "light"
     },
     "output_type": "display_data"
    }
   ],
   "source": [
    "sns.countplot(df['is_duplicate'] , palette = colors);"
   ]
  },
  {
   "cell_type": "markdown",
   "id": "858bbc9d-80ff-471e-8c8e-8aa224152f48",
   "metadata": {},
   "source": [
    "* ##### 64% of data is non-duplicate , and 36% is duplicate. But as the data is human-made their may be possibility of error."
   ]
  },
  {
   "cell_type": "code",
   "execution_count": 12,
   "id": "73a95f17-c397-4490-a015-649337871635",
   "metadata": {},
   "outputs": [
    {
     "name": "stdout",
     "output_type": "stream",
     "text": [
      "Number of unique questions :  537929\n",
      "Number of questions getting repeated :  111778\n"
     ]
    }
   ],
   "source": [
    "# Repeated Questions\n",
    "\n",
    "qid = pd.Series(df['qid1'].tolist() + df['qid2'].tolist())\n",
    "print('Number of unique questions : ',np.unique(qid).shape[0])\n",
    "x = qid.value_counts()>1\n",
    "print('Number of questions getting repeated : ',x[x].shape[0])"
   ]
  },
  {
   "cell_type": "markdown",
   "id": "cd270a90-1310-479b-ad19-2e73fef1f873",
   "metadata": {
    "tags": []
   },
   "source": [
    "* ##### By combining both questions id 1&2 around 63% of questions are unique."
   ]
  },
  {
   "cell_type": "code",
   "execution_count": 13,
   "id": "e61cd30a-02fe-45a2-8ab4-5d54b4c12130",
   "metadata": {},
   "outputs": [
    {
     "data": {
      "image/png": "[encoded data removed]",
      "text/plain": [
       "<Figure size 576x432 with 1 Axes>"
      ]
     },
     "metadata": {
      "needs_background": "light"
     },
     "output_type": "display_data"
    }
   ],
   "source": [
    "# Repeated questions Histogram\n",
    "\n",
    "plt.hist(qid.value_counts().values,bins=160)\n",
    "plt.yscale('log')\n",
    "plt.show()"
   ]
  },
  {
   "cell_type": "markdown",
   "id": "7a845d47-c60f-43f0-871a-b1ca062a9759",
   "metadata": {},
   "source": [
    "* ##### Generally, more than 80% falls between 0-45 , so question repeated becomes less and less as goes on."
   ]
  },
  {
   "cell_type": "code",
   "execution_count": 14,
   "id": "1ddea829-1b98-4a56-b52b-0f07b4fc302b",
   "metadata": {},
   "outputs": [],
   "source": [
    "new_df = df.sample(30000)"
   ]
  },
  {
   "cell_type": "markdown",
   "id": "f55a6084-e487-448d-902f-b9452205f704",
   "metadata": {},
   "source": [
    "## Text Preprocessing"
   ]
  },
  {
   "cell_type": "code",
   "execution_count": 15,
   "id": "7f4d9022-7190-4a91-898a-da151672bcb8",
   "metadata": {},
   "outputs": [],
   "source": [
    "stemmer = PorterStemmer()\n",
    "lemmatizer = WordNetLemmatizer()"
   ]
  },
  {
   "cell_type": "code",
   "execution_count": 16,
   "id": "50cde248-5ef6-440e-80e6-9f9f4b4c5e67",
   "metadata": {},
   "outputs": [],
   "source": [
    "def preprocess(q):\n",
    "    \n",
    "    # Replace certain special characters with their string equivalents\n",
    "    q = q.replace('%', ' percent')\n",
    "    q = q.replace('$', ' dollar ')\n",
    "    q = q.replace('₹', ' rupee ')\n",
    "    q = q.replace('€', ' euro ')\n",
    "    q = q.replace('@', ' at ')\n",
    "    q = q.replace('&', ' and ')\n",
    "    \n",
    "    q = q.replace(\"'ve\", \" have\")\n",
    "    q = q.replace(\"n't\", \" not\")\n",
    "    q = q.replace(\"'re\", \" are\")\n",
    "    q = q.replace(\"'ll\", \" will\")\n",
    "    \n",
    "    # The pattern '[math]' appears around 900 times in the whole dataset.\n",
    "    q = q.replace('[math]', '')\n",
    "    \n",
    "    # Replacing some numbers with string equivalents \n",
    "    q = q.replace(',000,000,000 ', 'b ')\n",
    "    q = q.replace(',000,000 ', 'm ')\n",
    "    q = q.replace(',000 ', 'k ')\n",
    "    q = re.sub(r'([0-9]+)000000000', r'\\1b', q)\n",
    "    q = re.sub(r'([0-9]+)000000', r'\\1m', q)\n",
    "    q = re.sub(r'([0-9]+)000', r'\\1k', q)\n",
    "    \n",
    "    contractions = { \n",
    "    \"ain't\": \"am not\",\n",
    "    \"aren't\": \"are not\",\n",
    "    \"can't\": \"can not\",\n",
    "    \"can't've\": \"can not have\",\n",
    "    \"'cause\": \"because\",\n",
    "    \"could've\": \"could have\",\n",
    "    \"couldn't\": \"could not\",\n",
    "    \"couldn't've\": \"could not have\",\n",
    "    \"didn't\": \"did not\",\n",
    "    \"doesn't\": \"does not\",\n",
    "    \"don't\": \"do not\",\n",
    "    \"hadn't\": \"had not\",\n",
    "    \"hadn't've\": \"had not have\",\n",
    "    \"hasn't\": \"has not\",\n",
    "    \"haven't\": \"have not\",\n",
    "    \"he'd\": \"he would\",\n",
    "    \"he'd've\": \"he would have\",\n",
    "    \"he'll\": \"he will\",\n",
    "    \"he'll've\": \"he will have\",\n",
    "    \"he's\": \"he is\",\n",
    "    \"how'd\": \"how did\",\n",
    "    \"how'd'y\": \"how do you\",\n",
    "    \"how'll\": \"how will\",\n",
    "    \"how's\": \"how is\",\n",
    "    \"i'd\": \"i would\",\n",
    "    \"i'd've\": \"i would have\",\n",
    "    \"i'll\": \"i will\",\n",
    "    \"i'll've\": \"i will have\",\n",
    "    \"i'm\": \"i am\",\n",
    "    \"i've\": \"i have\",\n",
    "    \"isn't\": \"is not\",\n",
    "    \"it'd\": \"it would\",\n",
    "    \"it'd've\": \"it would have\",\n",
    "    \"it'll\": \"it will\",\n",
    "    \"it'll've\": \"it will have\",\n",
    "    \"it's\": \"it is\",\n",
    "    \"let's\": \"let us\",\n",
    "    \"ma'am\": \"madam\",\n",
    "    \"mayn't\": \"may not\",\n",
    "    \"might've\": \"might have\",\n",
    "    \"mightn't\": \"might not\",\n",
    "    \"mightn't've\": \"might not have\",\n",
    "    \"must've\": \"must have\",\n",
    "    \"mustn't\": \"must not\",\n",
    "    \"mustn't've\": \"must not have\",\n",
    "    \"needn't\": \"need not\",\n",
    "    \"needn't've\": \"need not have\",\n",
    "    \"o'clock\": \"of the clock\",\n",
    "    \"oughtn't\": \"ought not\",\n",
    "    \"oughtn't've\": \"ought not have\",\n",
    "    \"shan't\": \"shall not\",\n",
    "    \"sha'n't\": \"shall not\",\n",
    "    \"shan't've\": \"shall not have\",\n",
    "    \"she'd\": \"she would\",\n",
    "    \"she'd've\": \"she would have\",\n",
    "    \"she'll\": \"she will\",\n",
    "    \"she'll've\": \"she will have\",\n",
    "    \"she's\": \"she is\",\n",
    "    \"should've\": \"should have\",\n",
    "    \"shouldn't\": \"should not\",\n",
    "    \"shouldn't've\": \"should not have\",\n",
    "    \"so've\": \"so have\",\n",
    "    \"so's\": \"so as\",\n",
    "    \"that'd\": \"that would\",\n",
    "    \"that'd've\": \"that would have\",\n",
    "    \"that's\": \"that is\",\n",
    "    \"there'd\": \"there would\",\n",
    "    \"there'd've\": \"there would have\",\n",
    "    \"there's\": \"there is\",\n",
    "    \"they'd\": \"they would\",\n",
    "    \"they'd've\": \"they would have\",\n",
    "    \"they'll\": \"they will\",\n",
    "    \"they'll've\": \"they will have\",\n",
    "    \"they're\": \"they are\",\n",
    "    \"they've\": \"they have\",\n",
    "    \"to've\": \"to have\",\n",
    "    \"wasn't\": \"was not\",\n",
    "    \"we'd\": \"we would\",\n",
    "    \"we'd've\": \"we would have\",\n",
    "    \"we'll\": \"we will\",\n",
    "    \"we'll've\": \"we will have\",\n",
    "    \"we're\": \"we are\",\n",
    "    \"we've\": \"we have\",\n",
    "    \"weren't\": \"were not\",\n",
    "    \"what'll\": \"what will\",\n",
    "    \"what'll've\": \"what will have\",\n",
    "    \"what're\": \"what are\",\n",
    "    \"what's\": \"what is\",\n",
    "    \"what've\": \"what have\",\n",
    "    \"when's\": \"when is\",\n",
    "    \"when've\": \"when have\",\n",
    "    \"where'd\": \"where did\",\n",
    "    \"where's\": \"where is\",\n",
    "    \"where've\": \"where have\",\n",
    "    \"who'll\": \"who will\",\n",
    "    \"who'll've\": \"who will have\",\n",
    "    \"who's\": \"who is\",\n",
    "    \"who've\": \"who have\",\n",
    "    \"why's\": \"why is\",\n",
    "    \"why've\": \"why have\",\n",
    "    \"will've\": \"will have\",\n",
    "    \"won't\": \"will not\",\n",
    "    \"won't've\": \"will not have\",\n",
    "    \"would've\": \"would have\",\n",
    "    \"wouldn't\": \"would not\",\n",
    "    \"wouldn't've\": \"would not have\",\n",
    "    \"y'all\": \"you all\",\n",
    "    \"y'all'd\": \"you all would\",\n",
    "    \"y'all'd've\": \"you all would have\",\n",
    "    \"y'all're\": \"you all are\",\n",
    "    \"y'all've\": \"you all have\",\n",
    "    \"you'd\": \"you would\",\n",
    "    \"you'd've\": \"you would have\",\n",
    "    \"you'll\": \"you will\",\n",
    "    \"you'll've\": \"you will have\",\n",
    "    \"you're\": \"you are\",\n",
    "    \"you've\": \"you have\"\n",
    "    }\n",
    "\n",
    "    q_decontracted = []\n",
    "\n",
    "    for word in q.split():\n",
    "        if word in contractions:\n",
    "            word = contractions[word]\n",
    "\n",
    "        q_decontracted.append(word)\n",
    "\n",
    "    q = ' '.join(q_decontracted)\n",
    "    q = q.replace(\"'ve\", \" have\")\n",
    "    q = q.replace(\"n't\", \" not\")\n",
    "    q = q.replace(\"'re\", \" are\")\n",
    "    q = q.replace(\"'ll\", \" will\")\n",
    "    \n",
    "    \n",
    "    # Removing HTML tags\n",
    "    q = BeautifulSoup(q)\n",
    "    q = q.get_text()\n",
    "    \n",
    "    # Remove punctuations\n",
    "    pattern = re.compile('\\W')\n",
    "    q = re.sub(pattern, ' ', q).strip()\n",
    "    \n",
    "    # Tokenize Words\n",
    "    words = word_tokenize(q)\n",
    "    \n",
    "    q = \" \".join(words)\n",
    "    return q\n",
    "    "
   ]
  },
  {
   "cell_type": "code",
   "execution_count": 17,
   "id": "8d8894c9-e8e1-49d5-9b21-b0a52eb430ff",
   "metadata": {},
   "outputs": [
    {
     "data": {
      "text/plain": [
       "'I have already was not done'"
      ]
     },
     "execution_count": 17,
     "metadata": {},
     "output_type": "execute_result"
    }
   ],
   "source": [
    "preprocess(\"I've already! wasn't <b>done</b>?\")"
   ]
  },
  {
   "cell_type": "code",
   "execution_count": 18,
   "id": "0faebf2c-cd1f-4ca6-bdb5-e2dc98364155",
   "metadata": {},
   "outputs": [],
   "source": [
    "new_df['question1'] = new_df['question1'].apply(preprocess)\n",
    "new_df['question2'] = new_df['question2'].apply(preprocess)"
   ]
  },
  {
   "cell_type": "code",
   "execution_count": 19,
   "id": "511e7ad9-9289-43fc-b76c-15ce81ec9085",
   "metadata": {},
   "outputs": [
    {
     "data": {
      "text/html": [
       "<div>\n",
       "<style scoped>\n",
       "    .dataframe tbody tr th:only-of-type {\n",
       "        vertical-align: middle;\n",
       "    }\n",
       "\n",
       "    .dataframe tbody tr th {\n",
       "        vertical-align: top;\n",
       "    }\n",
       "\n",
       "    .dataframe thead th {\n",
       "        text-align: right;\n",
       "    }\n",
       "</style>\n",
       "<table border=\"1\" class=\"dataframe\">\n",
       "  <thead>\n",
       "    <tr style=\"text-align: right;\">\n",
       "      <th></th>\n",
       "      <th>id</th>\n",
       "      <th>qid1</th>\n",
       "      <th>qid2</th>\n",
       "      <th>question1</th>\n",
       "      <th>question2</th>\n",
       "      <th>is_duplicate</th>\n",
       "    </tr>\n",
       "  </thead>\n",
       "  <tbody>\n",
       "    <tr>\n",
       "      <th>398532</th>\n",
       "      <td>398532</td>\n",
       "      <td>531762</td>\n",
       "      <td>110815</td>\n",
       "      <td>On average how many Hollywood films are releas...</td>\n",
       "      <td>What are the best Hollywood movies of 2015</td>\n",
       "      <td>0</td>\n",
       "    </tr>\n",
       "    <tr>\n",
       "      <th>321088</th>\n",
       "      <td>321088</td>\n",
       "      <td>446745</td>\n",
       "      <td>247520</td>\n",
       "      <td>Is you ai not shit a compliment or insult</td>\n",
       "      <td>What is the best compliment a girl can get for...</td>\n",
       "      <td>0</td>\n",
       "    </tr>\n",
       "    <tr>\n",
       "      <th>87970</th>\n",
       "      <td>87970</td>\n",
       "      <td>148060</td>\n",
       "      <td>148061</td>\n",
       "      <td>Is there any app to lock WhatsApp s particular...</td>\n",
       "      <td>What is the difference between WeChat and What...</td>\n",
       "      <td>0</td>\n",
       "    </tr>\n",
       "    <tr>\n",
       "      <th>382759</th>\n",
       "      <td>382759</td>\n",
       "      <td>12956</td>\n",
       "      <td>36473</td>\n",
       "      <td>Have the Ancient Mayans been scientifically te...</td>\n",
       "      <td>Has Ancient Egypt been scientifically tested</td>\n",
       "      <td>1</td>\n",
       "    </tr>\n",
       "    <tr>\n",
       "      <th>195718</th>\n",
       "      <td>195718</td>\n",
       "      <td>296245</td>\n",
       "      <td>296246</td>\n",
       "      <td>How is noise pollution caused</td>\n",
       "      <td>What are the causes of noise pollution</td>\n",
       "      <td>1</td>\n",
       "    </tr>\n",
       "    <tr>\n",
       "      <th>...</th>\n",
       "      <td>...</td>\n",
       "      <td>...</td>\n",
       "      <td>...</td>\n",
       "      <td>...</td>\n",
       "      <td>...</td>\n",
       "      <td>...</td>\n",
       "    </tr>\n",
       "    <tr>\n",
       "      <th>238512</th>\n",
       "      <td>238512</td>\n",
       "      <td>349889</td>\n",
       "      <td>349890</td>\n",
       "      <td>What can I do after competing B Sc in Chemistr...</td>\n",
       "      <td>What can I do after a B Sc with physics</td>\n",
       "      <td>1</td>\n",
       "    </tr>\n",
       "    <tr>\n",
       "      <th>400264</th>\n",
       "      <td>400264</td>\n",
       "      <td>31848</td>\n",
       "      <td>187194</td>\n",
       "      <td>How does the Queen of the United Kingdom trave...</td>\n",
       "      <td>If the Queen of the United Kingdom dies would ...</td>\n",
       "      <td>0</td>\n",
       "    </tr>\n",
       "    <tr>\n",
       "      <th>152705</th>\n",
       "      <td>152705</td>\n",
       "      <td>239863</td>\n",
       "      <td>239864</td>\n",
       "      <td>What is the work of mathematician</td>\n",
       "      <td>Who is a mathematician</td>\n",
       "      <td>0</td>\n",
       "    </tr>\n",
       "    <tr>\n",
       "      <th>365790</th>\n",
       "      <td>365790</td>\n",
       "      <td>495930</td>\n",
       "      <td>495931</td>\n",
       "      <td>Should I confess my affair</td>\n",
       "      <td>Should I confess an affair that is over</td>\n",
       "      <td>0</td>\n",
       "    </tr>\n",
       "    <tr>\n",
       "      <th>55714</th>\n",
       "      <td>55714</td>\n",
       "      <td>98195</td>\n",
       "      <td>98196</td>\n",
       "      <td>What are the gram stain reactions of the genus...</td>\n",
       "      <td>What is the difference between gram positive a...</td>\n",
       "      <td>0</td>\n",
       "    </tr>\n",
       "  </tbody>\n",
       "</table>\n",
       "<p>30000 rows × 6 columns</p>\n",
       "</div>"
      ],
      "text/plain": [
       "            id    qid1    qid2  \\\n",
       "398532  398532  531762  110815   \n",
       "321088  321088  446745  247520   \n",
       "87970    87970  148060  148061   \n",
       "382759  382759   12956   36473   \n",
       "195718  195718  296245  296246   \n",
       "...        ...     ...     ...   \n",
       "238512  238512  349889  349890   \n",
       "400264  400264   31848  187194   \n",
       "152705  152705  239863  239864   \n",
       "365790  365790  495930  495931   \n",
       "55714    55714   98195   98196   \n",
       "\n",
       "                                                question1  \\\n",
       "398532  On average how many Hollywood films are releas...   \n",
       "321088          Is you ai not shit a compliment or insult   \n",
       "87970   Is there any app to lock WhatsApp s particular...   \n",
       "382759  Have the Ancient Mayans been scientifically te...   \n",
       "195718                      How is noise pollution caused   \n",
       "...                                                   ...   \n",
       "238512  What can I do after competing B Sc in Chemistr...   \n",
       "400264  How does the Queen of the United Kingdom trave...   \n",
       "152705                  What is the work of mathematician   \n",
       "365790                         Should I confess my affair   \n",
       "55714   What are the gram stain reactions of the genus...   \n",
       "\n",
       "                                                question2  is_duplicate  \n",
       "398532         What are the best Hollywood movies of 2015             0  \n",
       "321088  What is the best compliment a girl can get for...             0  \n",
       "87970   What is the difference between WeChat and What...             0  \n",
       "382759       Has Ancient Egypt been scientifically tested             1  \n",
       "195718             What are the causes of noise pollution             1  \n",
       "...                                                   ...           ...  \n",
       "238512            What can I do after a B Sc with physics             1  \n",
       "400264  If the Queen of the United Kingdom dies would ...             0  \n",
       "152705                             Who is a mathematician             0  \n",
       "365790            Should I confess an affair that is over             0  \n",
       "55714   What is the difference between gram positive a...             0  \n",
       "\n",
       "[30000 rows x 6 columns]"
      ]
     },
     "execution_count": 19,
     "metadata": {},
     "output_type": "execute_result"
    }
   ],
   "source": [
    "new_df"
   ]
  },
  {
   "cell_type": "markdown",
   "id": "3ad94035-6fd5-4dea-a2a0-3a74676a3445",
   "metadata": {},
   "source": [
    "## Feature Engineering"
   ]
  },
  {
   "cell_type": "markdown",
   "id": "9fe1a8c7-e1c6-4a84-ae53-3d9c39f896ff",
   "metadata": {},
   "source": [
    "### Basics\n",
    "***"
   ]
  },
  {
   "cell_type": "markdown",
   "id": "8d363d2c-485f-42d8-81b9-7c6374df2ea2",
   "metadata": {},
   "source": [
    "* #### Length of Question 1 & 2"
   ]
  },
  {
   "cell_type": "code",
   "execution_count": 20,
   "id": "824c0ab6-5a58-4abc-ab2e-bb4a0f91f1f6",
   "metadata": {},
   "outputs": [],
   "source": [
    "new_df['q1_len'] = new_df['question1'].str.len()\n",
    "new_df['q2_len'] = new_df['question2'].str.len()"
   ]
  },
  {
   "cell_type": "markdown",
   "id": "e2ccd870-3fbe-4a63-83b9-165fbfb0e861",
   "metadata": {},
   "source": [
    "* #### Number of Words in Question 1 & 2"
   ]
  },
  {
   "cell_type": "code",
   "execution_count": 21,
   "id": "98a4baa1-7f78-4b25-b3b2-fcc9bbe822c7",
   "metadata": {},
   "outputs": [],
   "source": [
    "new_df['q1_num_words'] = new_df['question1'].apply(lambda row: len(row.split(\" \")))\n",
    "new_df['q2_num_words'] = new_df['question2'].apply(lambda row: len(row.split(\" \")))"
   ]
  },
  {
   "cell_type": "markdown",
   "id": "0620a0d7-d358-46f2-b26f-5bd3d0617b9c",
   "metadata": {},
   "source": [
    "* #### Common Words in Question 1 & 2"
   ]
  },
  {
   "cell_type": "code",
   "execution_count": 22,
   "id": "fd3f2dfc-c880-4535-93cb-b715f33b5c5e",
   "metadata": {},
   "outputs": [],
   "source": [
    "def common_words(row):\n",
    "    w1 = set(map(lambda word: word.lower().strip() , row['question1'].split(\" \")))\n",
    "    w2 = set(map(lambda word: word.lower().strip() , row['question2'].split(\" \")))\n",
    "    return len(w1 & w2)"
   ]
  },
  {
   "cell_type": "code",
   "execution_count": 23,
   "id": "35c3463d-915f-4a1f-986b-71468769ae04",
   "metadata": {},
   "outputs": [],
   "source": [
    "new_df['common_word'] = new_df.apply(common_words , axis=1)"
   ]
  },
  {
   "cell_type": "markdown",
   "id": "29b30346-27d8-4846-b601-2c01a8298f9d",
   "metadata": {},
   "source": [
    "* #### Total Words in Question 1 & 2"
   ]
  },
  {
   "cell_type": "code",
   "execution_count": 24,
   "id": "fce6fb0b-f12c-4f44-bada-b84719ee524f",
   "metadata": {},
   "outputs": [],
   "source": [
    "def common_words(row):\n",
    "    w1 = set(map(lambda word: word.lower().strip() , row['question1'].split(\" \")))\n",
    "    w2 = set(map(lambda word: word.lower().strip() , row['question2'].split(\" \")))\n",
    "    return (len(w1) +  len(w2))"
   ]
  },
  {
   "cell_type": "code",
   "execution_count": 25,
   "id": "dbdef30c-0146-46e5-9177-2f8cd53b4408",
   "metadata": {},
   "outputs": [],
   "source": [
    "new_df['word_total'] = new_df.apply(common_words , axis=1)"
   ]
  },
  {
   "cell_type": "markdown",
   "id": "a14b94e2-a226-4e6f-a4d0-bf9c659b65ff",
   "metadata": {},
   "source": [
    "* #### Word shared between Question 1 & 2"
   ]
  },
  {
   "cell_type": "code",
   "execution_count": 26,
   "id": "5a68f1b7-be3f-4b1c-a1b8-c1529f76fdd0",
   "metadata": {},
   "outputs": [],
   "source": [
    "new_df['word_share'] = round(new_df['common_word']/new_df['word_total'],2)"
   ]
  },
  {
   "cell_type": "code",
   "execution_count": 27,
   "id": "8e4ac3d4-7d46-4105-bd92-f396631d73f9",
   "metadata": {},
   "outputs": [
    {
     "data": {
      "text/html": [
       "<div>\n",
       "<style scoped>\n",
       "    .dataframe tbody tr th:only-of-type {\n",
       "        vertical-align: middle;\n",
       "    }\n",
       "\n",
       "    .dataframe tbody tr th {\n",
       "        vertical-align: top;\n",
       "    }\n",
       "\n",
       "    .dataframe thead th {\n",
       "        text-align: right;\n",
       "    }\n",
       "</style>\n",
       "<table border=\"1\" class=\"dataframe\">\n",
       "  <thead>\n",
       "    <tr style=\"text-align: right;\">\n",
       "      <th></th>\n",
       "      <th>id</th>\n",
       "      <th>qid1</th>\n",
       "      <th>qid2</th>\n",
       "      <th>question1</th>\n",
       "      <th>question2</th>\n",
       "      <th>is_duplicate</th>\n",
       "      <th>q1_len</th>\n",
       "      <th>q2_len</th>\n",
       "      <th>q1_num_words</th>\n",
       "      <th>q2_num_words</th>\n",
       "      <th>common_word</th>\n",
       "      <th>word_total</th>\n",
       "      <th>word_share</th>\n",
       "    </tr>\n",
       "  </thead>\n",
       "  <tbody>\n",
       "    <tr>\n",
       "      <th>398532</th>\n",
       "      <td>398532</td>\n",
       "      <td>531762</td>\n",
       "      <td>110815</td>\n",
       "      <td>On average how many Hollywood films are releas...</td>\n",
       "      <td>What are the best Hollywood movies of 2015</td>\n",
       "      <td>0</td>\n",
       "      <td>58</td>\n",
       "      <td>42</td>\n",
       "      <td>11</td>\n",
       "      <td>8</td>\n",
       "      <td>2</td>\n",
       "      <td>19</td>\n",
       "      <td>0.11</td>\n",
       "    </tr>\n",
       "    <tr>\n",
       "      <th>321088</th>\n",
       "      <td>321088</td>\n",
       "      <td>446745</td>\n",
       "      <td>247520</td>\n",
       "      <td>Is you ai not shit a compliment or insult</td>\n",
       "      <td>What is the best compliment a girl can get for...</td>\n",
       "      <td>0</td>\n",
       "      <td>41</td>\n",
       "      <td>56</td>\n",
       "      <td>9</td>\n",
       "      <td>12</td>\n",
       "      <td>3</td>\n",
       "      <td>21</td>\n",
       "      <td>0.14</td>\n",
       "    </tr>\n",
       "    <tr>\n",
       "      <th>87970</th>\n",
       "      <td>87970</td>\n",
       "      <td>148060</td>\n",
       "      <td>148061</td>\n",
       "      <td>Is there any app to lock WhatsApp s particular...</td>\n",
       "      <td>What is the difference between WeChat and What...</td>\n",
       "      <td>0</td>\n",
       "      <td>62</td>\n",
       "      <td>50</td>\n",
       "      <td>12</td>\n",
       "      <td>8</td>\n",
       "      <td>3</td>\n",
       "      <td>20</td>\n",
       "      <td>0.15</td>\n",
       "    </tr>\n",
       "    <tr>\n",
       "      <th>382759</th>\n",
       "      <td>382759</td>\n",
       "      <td>12956</td>\n",
       "      <td>36473</td>\n",
       "      <td>Have the Ancient Mayans been scientifically te...</td>\n",
       "      <td>Has Ancient Egypt been scientifically tested</td>\n",
       "      <td>1</td>\n",
       "      <td>50</td>\n",
       "      <td>44</td>\n",
       "      <td>7</td>\n",
       "      <td>6</td>\n",
       "      <td>4</td>\n",
       "      <td>13</td>\n",
       "      <td>0.31</td>\n",
       "    </tr>\n",
       "    <tr>\n",
       "      <th>195718</th>\n",
       "      <td>195718</td>\n",
       "      <td>296245</td>\n",
       "      <td>296246</td>\n",
       "      <td>How is noise pollution caused</td>\n",
       "      <td>What are the causes of noise pollution</td>\n",
       "      <td>1</td>\n",
       "      <td>29</td>\n",
       "      <td>38</td>\n",
       "      <td>5</td>\n",
       "      <td>7</td>\n",
       "      <td>2</td>\n",
       "      <td>12</td>\n",
       "      <td>0.17</td>\n",
       "    </tr>\n",
       "    <tr>\n",
       "      <th>135423</th>\n",
       "      <td>135423</td>\n",
       "      <td>1749</td>\n",
       "      <td>92977</td>\n",
       "      <td>How can changing 500 and 1k rupee notes end th...</td>\n",
       "      <td>How does the latest decision of abolishing 500...</td>\n",
       "      <td>1</td>\n",
       "      <td>68</td>\n",
       "      <td>101</td>\n",
       "      <td>14</td>\n",
       "      <td>17</td>\n",
       "      <td>7</td>\n",
       "      <td>30</td>\n",
       "      <td>0.23</td>\n",
       "    </tr>\n",
       "    <tr>\n",
       "      <th>141818</th>\n",
       "      <td>141818</td>\n",
       "      <td>225041</td>\n",
       "      <td>225042</td>\n",
       "      <td>How can I make my newly published book to be k...</td>\n",
       "      <td>If Libertarianism is so great why are not ther...</td>\n",
       "      <td>0</td>\n",
       "      <td>118</td>\n",
       "      <td>75</td>\n",
       "      <td>25</td>\n",
       "      <td>12</td>\n",
       "      <td>0</td>\n",
       "      <td>30</td>\n",
       "      <td>0.00</td>\n",
       "    </tr>\n",
       "    <tr>\n",
       "      <th>36888</th>\n",
       "      <td>36888</td>\n",
       "      <td>67205</td>\n",
       "      <td>67206</td>\n",
       "      <td>How to make an Aztec headdress</td>\n",
       "      <td>What did the Aztecs think of life</td>\n",
       "      <td>0</td>\n",
       "      <td>30</td>\n",
       "      <td>33</td>\n",
       "      <td>6</td>\n",
       "      <td>7</td>\n",
       "      <td>0</td>\n",
       "      <td>13</td>\n",
       "      <td>0.00</td>\n",
       "    </tr>\n",
       "  </tbody>\n",
       "</table>\n",
       "</div>"
      ],
      "text/plain": [
       "            id    qid1    qid2  \\\n",
       "398532  398532  531762  110815   \n",
       "321088  321088  446745  247520   \n",
       "87970    87970  148060  148061   \n",
       "382759  382759   12956   36473   \n",
       "195718  195718  296245  296246   \n",
       "135423  135423    1749   92977   \n",
       "141818  141818  225041  225042   \n",
       "36888    36888   67205   67206   \n",
       "\n",
       "                                                question1  \\\n",
       "398532  On average how many Hollywood films are releas...   \n",
       "321088          Is you ai not shit a compliment or insult   \n",
       "87970   Is there any app to lock WhatsApp s particular...   \n",
       "382759  Have the Ancient Mayans been scientifically te...   \n",
       "195718                      How is noise pollution caused   \n",
       "135423  How can changing 500 and 1k rupee notes end th...   \n",
       "141818  How can I make my newly published book to be k...   \n",
       "36888                      How to make an Aztec headdress   \n",
       "\n",
       "                                                question2  is_duplicate  \\\n",
       "398532         What are the best Hollywood movies of 2015             0   \n",
       "321088  What is the best compliment a girl can get for...             0   \n",
       "87970   What is the difference between WeChat and What...             0   \n",
       "382759       Has Ancient Egypt been scientifically tested             1   \n",
       "195718             What are the causes of noise pollution             1   \n",
       "135423  How does the latest decision of abolishing 500...             1   \n",
       "141818  If Libertarianism is so great why are not ther...             0   \n",
       "36888                   What did the Aztecs think of life             0   \n",
       "\n",
       "        q1_len  q2_len  q1_num_words  q2_num_words  common_word  word_total  \\\n",
       "398532      58      42            11             8            2          19   \n",
       "321088      41      56             9            12            3          21   \n",
       "87970       62      50            12             8            3          20   \n",
       "382759      50      44             7             6            4          13   \n",
       "195718      29      38             5             7            2          12   \n",
       "135423      68     101            14            17            7          30   \n",
       "141818     118      75            25            12            0          30   \n",
       "36888       30      33             6             7            0          13   \n",
       "\n",
       "        word_share  \n",
       "398532        0.11  \n",
       "321088        0.14  \n",
       "87970         0.15  \n",
       "382759        0.31  \n",
       "195718        0.17  \n",
       "135423        0.23  \n",
       "141818        0.00  \n",
       "36888         0.00  "
      ]
     },
     "execution_count": 27,
     "metadata": {},
     "output_type": "execute_result"
    }
   ],
   "source": [
    "new_df.head(8)"
   ]
  },
  {
   "cell_type": "markdown",
   "id": "db50b76c-2d58-48f4-8d2d-86f2a242b461",
   "metadata": {},
   "source": [
    "### Advanced\n",
    "***"
   ]
  },
  {
   "cell_type": "markdown",
   "id": "82ffad31-5cbe-457d-9523-04c58656ad7b",
   "metadata": {},
   "source": [
    "> #### Token Feature\n",
    "\n",
    "* cwc_min: This is the ratio of the number of common words to the length of the smaller question\n",
    "* cwc_max: This is the ratio of the number of common words to the length of the larger question\n",
    "* csc_min: This is the ratio of the number of common stop words to the smaller stop word count among the two questions\n",
    "* csc_max: This is the ratio of the number of common stop words to the larger stop word count among the two questions\n",
    "* ctc_min: This is the ratio of the number of common tokens to the smaller token count among the two questions\n",
    "* ctc_max: This is the ratio of the number of common tokens to the larger token count among the two questions\n",
    "* last_word_eq: 1 if the last word in the two questions is same, 0 otherwise\n",
    "* first_word_eq: 1 if the first word in the two questions is same, 0 otherwise"
   ]
  },
  {
   "cell_type": "code",
   "execution_count": 28,
   "id": "5b594fd9-16aa-4e53-8680-db04dead18b1",
   "metadata": {},
   "outputs": [],
   "source": [
    "from nltk.corpus import stopwords \n",
    "\n",
    "def fetch_features(row):\n",
    "    \n",
    "    q1 = row['question1']\n",
    "    q2 = row['question2']\n",
    "    \n",
    "    Safe_DIV = 0.0001\n",
    "    \n",
    "    stop_words = stopwords.words(\"english\")\n",
    "    \n",
    "    token_features = [0.0]*8   # return this as a row if any problem occurs during feature\n",
    "    \n",
    "    # Converting the sentences into Tokens:\n",
    "    q1_tokens = q1.split()\n",
    "    q2_tokens = q2.split()\n",
    "    \n",
    "    if len(q1_tokens)==0 or len(q2_tokens)==0 :\n",
    "        return token_features\n",
    "                                                          \n",
    "    \n",
    "    # Non-stopwords in Questions\n",
    "    q1_words = set([word for word in q1_tokens if word not in stop_words])\n",
    "    q2_words = set([word for word in q2_tokens if word not in stop_words])\n",
    "    \n",
    "    # Stopwords in Questions\n",
    "    q1_stops = set([word for word in q1_tokens if word in stop_words])\n",
    "    q2_stops = set([word for word in q2_tokens if word in stop_words])\n",
    "           \n",
    "           \n",
    "    # Common non-stopwords from Question Pair\n",
    "    common_word_count = len(q1_words.intersection(q2_words))\n",
    "    \n",
    "    # Common stopwords from Question Pair\n",
    "    common_stop_count = len(q1_stops.intersection(q2_stops))\n",
    "    \n",
    "    # Common token from Question Pair\n",
    "    common_token_count = len(set(q1_tokens).intersection(set(q2_tokens)))\n",
    "    \n",
    "    token_features[0] = common_word_count/(min(len(q1_words) , len(q2_words)) + Safe_DIV)\n",
    "    token_features[1] = common_word_count/(max(len(q1_words) , len(q2_words)) + Safe_DIV)\n",
    "    token_features[0] = common_stop_count/(min(len(q1_stops) , len(q2_stops)) + Safe_DIV)\n",
    "    token_features[0] = common_word_count/(max(len(q1_stops) , len(q2_stops)) + Safe_DIV)\n",
    "    token_features[0] = common_token_count/(min(len(q1_tokens) , len(q2_tokens)) + Safe_DIV)\n",
    "    token_features[0] = common_token_count/(max(len(q1_tokens) , len(q2_tokens)) + Safe_DIV)\n",
    "    \n",
    "    \n",
    "    # Last Word of both question same or not\n",
    "    token_features[6] = int(q1_tokens[-1] == q2_tokens[-1])\n",
    "    \n",
    "    # First Word of both questions same or not\n",
    "    token_features[7] = int(q1_tokens[0] == q2_tokens[0])\n",
    "    \n",
    "    \n",
    "    return token_features"
   ]
  },
  {
   "cell_type": "code",
   "execution_count": 29,
   "id": "ed744b7e-911b-4f0b-9bd2-be012c52c1b1",
   "metadata": {},
   "outputs": [],
   "source": [
    "token_features = new_df.apply(fetch_features , axis=1)\n",
    "\n",
    "new_df['cwc_min'] = list(map(lambda x: x[0] , token_features))\n",
    "new_df['cwc_max'] = list(map(lambda x: x[1] , token_features))\n",
    "new_df['csc_min'] = list(map(lambda x: x[2] , token_features))\n",
    "new_df['csc_max'] = list(map(lambda x: x[3] , token_features))\n",
    "new_df['ctc_min'] = list(map(lambda x: x[4] , token_features))\n",
    "new_df['ctc_max'] = list(map(lambda x: x[5] , token_features))\n",
    "new_df['last_word_eq'] = list(map(lambda x: x[6] , token_features))\n",
    "new_df['first_word_eq'] = list(map(lambda x: x[7] , token_features))"
   ]
  },
  {
   "cell_type": "code",
   "execution_count": 30,
   "id": "e8df71d0-68e5-43a8-add0-1d8a0c3fba56",
   "metadata": {},
   "outputs": [
    {
     "data": {
      "text/html": [
       "<div>\n",
       "<style scoped>\n",
       "    .dataframe tbody tr th:only-of-type {\n",
       "        vertical-align: middle;\n",
       "    }\n",
       "\n",
       "    .dataframe tbody tr th {\n",
       "        vertical-align: top;\n",
       "    }\n",
       "\n",
       "    .dataframe thead th {\n",
       "        text-align: right;\n",
       "    }\n",
       "</style>\n",
       "<table border=\"1\" class=\"dataframe\">\n",
       "  <thead>\n",
       "    <tr style=\"text-align: right;\">\n",
       "      <th></th>\n",
       "      <th>id</th>\n",
       "      <th>qid1</th>\n",
       "      <th>qid2</th>\n",
       "      <th>question1</th>\n",
       "      <th>question2</th>\n",
       "      <th>is_duplicate</th>\n",
       "      <th>q1_len</th>\n",
       "      <th>q2_len</th>\n",
       "      <th>q1_num_words</th>\n",
       "      <th>q2_num_words</th>\n",
       "      <th>...</th>\n",
       "      <th>word_total</th>\n",
       "      <th>word_share</th>\n",
       "      <th>cwc_min</th>\n",
       "      <th>cwc_max</th>\n",
       "      <th>csc_min</th>\n",
       "      <th>csc_max</th>\n",
       "      <th>ctc_min</th>\n",
       "      <th>ctc_max</th>\n",
       "      <th>last_word_eq</th>\n",
       "      <th>first_word_eq</th>\n",
       "    </tr>\n",
       "  </thead>\n",
       "  <tbody>\n",
       "    <tr>\n",
       "      <th>398532</th>\n",
       "      <td>398532</td>\n",
       "      <td>531762</td>\n",
       "      <td>110815</td>\n",
       "      <td>On average how many Hollywood films are releas...</td>\n",
       "      <td>What are the best Hollywood movies of 2015</td>\n",
       "      <td>0</td>\n",
       "      <td>58</td>\n",
       "      <td>42</td>\n",
       "      <td>11</td>\n",
       "      <td>8</td>\n",
       "      <td>...</td>\n",
       "      <td>19</td>\n",
       "      <td>0.11</td>\n",
       "      <td>0.181817</td>\n",
       "      <td>0.142855</td>\n",
       "      <td>0.0</td>\n",
       "      <td>0.0</td>\n",
       "      <td>0.0</td>\n",
       "      <td>0.0</td>\n",
       "      <td>0.0</td>\n",
       "      <td>0.0</td>\n",
       "    </tr>\n",
       "    <tr>\n",
       "      <th>321088</th>\n",
       "      <td>321088</td>\n",
       "      <td>446745</td>\n",
       "      <td>247520</td>\n",
       "      <td>Is you ai not shit a compliment or insult</td>\n",
       "      <td>What is the best compliment a girl can get for...</td>\n",
       "      <td>0</td>\n",
       "      <td>41</td>\n",
       "      <td>56</td>\n",
       "      <td>9</td>\n",
       "      <td>12</td>\n",
       "      <td>...</td>\n",
       "      <td>21</td>\n",
       "      <td>0.14</td>\n",
       "      <td>0.166665</td>\n",
       "      <td>0.166664</td>\n",
       "      <td>0.0</td>\n",
       "      <td>0.0</td>\n",
       "      <td>0.0</td>\n",
       "      <td>0.0</td>\n",
       "      <td>0.0</td>\n",
       "      <td>0.0</td>\n",
       "    </tr>\n",
       "    <tr>\n",
       "      <th>87970</th>\n",
       "      <td>87970</td>\n",
       "      <td>148060</td>\n",
       "      <td>148061</td>\n",
       "      <td>Is there any app to lock WhatsApp s particular...</td>\n",
       "      <td>What is the difference between WeChat and What...</td>\n",
       "      <td>0</td>\n",
       "      <td>62</td>\n",
       "      <td>50</td>\n",
       "      <td>12</td>\n",
       "      <td>8</td>\n",
       "      <td>...</td>\n",
       "      <td>20</td>\n",
       "      <td>0.15</td>\n",
       "      <td>0.166665</td>\n",
       "      <td>0.142855</td>\n",
       "      <td>0.0</td>\n",
       "      <td>0.0</td>\n",
       "      <td>0.0</td>\n",
       "      <td>0.0</td>\n",
       "      <td>0.0</td>\n",
       "      <td>0.0</td>\n",
       "    </tr>\n",
       "  </tbody>\n",
       "</table>\n",
       "<p>3 rows × 21 columns</p>\n",
       "</div>"
      ],
      "text/plain": [
       "            id    qid1    qid2  \\\n",
       "398532  398532  531762  110815   \n",
       "321088  321088  446745  247520   \n",
       "87970    87970  148060  148061   \n",
       "\n",
       "                                                question1  \\\n",
       "398532  On average how many Hollywood films are releas...   \n",
       "321088          Is you ai not shit a compliment or insult   \n",
       "87970   Is there any app to lock WhatsApp s particular...   \n",
       "\n",
       "                                                question2  is_duplicate  \\\n",
       "398532         What are the best Hollywood movies of 2015             0   \n",
       "321088  What is the best compliment a girl can get for...             0   \n",
       "87970   What is the difference between WeChat and What...             0   \n",
       "\n",
       "        q1_len  q2_len  q1_num_words  q2_num_words  ...  word_total  \\\n",
       "398532      58      42            11             8  ...          19   \n",
       "321088      41      56             9            12  ...          21   \n",
       "87970       62      50            12             8  ...          20   \n",
       "\n",
       "        word_share   cwc_min   cwc_max  csc_min  csc_max  ctc_min  ctc_max  \\\n",
       "398532        0.11  0.181817  0.142855      0.0      0.0      0.0      0.0   \n",
       "321088        0.14  0.166665  0.166664      0.0      0.0      0.0      0.0   \n",
       "87970         0.15  0.166665  0.142855      0.0      0.0      0.0      0.0   \n",
       "\n",
       "        last_word_eq  first_word_eq  \n",
       "398532           0.0            0.0  \n",
       "321088           0.0            0.0  \n",
       "87970            0.0            0.0  \n",
       "\n",
       "[3 rows x 21 columns]"
      ]
     },
     "execution_count": 30,
     "metadata": {},
     "output_type": "execute_result"
    }
   ],
   "source": [
    "new_df.head(3)"
   ]
  },
  {
   "cell_type": "markdown",
   "id": "878ce392-1aa9-4191-b2f2-e9a050bb07f6",
   "metadata": {},
   "source": [
    "> #### Length Based Feature\n",
    "\n",
    "* mean_len: Mean of the length of the two questions (number of words)\n",
    "* abs_len_diff: Absolute difference between the length of the two questions (number of words)\n",
    "* longest_substr_ratio: Ratio of the length of the longest substring among the two questions to the length of the smaller question"
   ]
  },
  {
   "cell_type": "code",
   "execution_count": 31,
   "id": "980b4433-6a85-4d8f-a50c-ce2ef16a8a4c",
   "metadata": {},
   "outputs": [],
   "source": [
    "import distance\n",
    "\n",
    "def fetch_length_features(row):\n",
    "    \n",
    "    q1 = row['question1']\n",
    "    q2 = row['question2']\n",
    "    \n",
    "    length_features = [0.0]*3\n",
    "    \n",
    "    # Converting the Sentence into Tokens: \n",
    "    q1_tokens = q1.split()\n",
    "    q2_tokens = q2.split()\n",
    "    \n",
    "    if len(q1_tokens) == 0 or len(q2_tokens) == 0:\n",
    "        return length_features\n",
    "    \n",
    "    # Absolute length features\n",
    "    length_features[0] = abs(len(q1_tokens) - len(q2_tokens))\n",
    "    \n",
    "    #Average Token Length of both Questions\n",
    "    length_features[1] = (len(q1_tokens) + len(q2_tokens))/2\n",
    "    \n",
    "    strs = list(distance.lcsubstrings(q1, q2))\n",
    "    \n",
    "    if strs:\n",
    "        length_features[2] = len(strs[0]) / (min(len(q1), len(q2)) + 1)\n",
    "    else:\n",
    "        # Assign a specific value (e.g., -1) when no common substrings are found\n",
    "        length_features[2] = -1.0\n",
    "    \n",
    "    return length_features"
   ]
  },
  {
   "cell_type": "code",
   "execution_count": 32,
   "id": "adf86292-6191-463f-8ef4-0c3317c1c07a",
   "metadata": {},
   "outputs": [],
   "source": [
    "length_features = new_df.apply(fetch_length_features, axis=1)\n",
    "\n",
    "new_df['abs_len_diff'] = list(map(lambda x: x[0] , length_features))\n",
    "new_df['mean_len'] = list(map(lambda x: x[1] , length_features))\n",
    "new_df['longest_substr_ratio'] = list(map(lambda x: x[2] , length_features))"
   ]
  },
  {
   "cell_type": "markdown",
   "id": "d1620459-84e6-4717-b628-32ec8cae1d66",
   "metadata": {},
   "source": [
    "* #### EDA - II"
   ]
  },
  {
   "cell_type": "code",
   "execution_count": 33,
   "id": "d50e08c7-df09-4e29-b023-a32148d80448",
   "metadata": {},
   "outputs": [
    {
     "data": {
      "text/plain": [
       "<seaborn.axisgrid.PairGrid at 0x1b93f2e0310>"
      ]
     },
     "execution_count": 33,
     "metadata": {},
     "output_type": "execute_result"
    },
    {
     "data": {
      "image/png": "[encoded data removed]",
      "text/plain": [
       "<Figure size 655.2x540 with 12 Axes>"
      ]
     },
     "metadata": {
      "needs_background": "light"
     },
     "output_type": "display_data"
    }
   ],
   "source": [
    "sns.pairplot(new_df[['ctc_min', 'cwc_min', 'csc_min', 'is_duplicate']],hue='is_duplicate')"
   ]
  },
  {
   "cell_type": "code",
   "execution_count": 34,
   "id": "783f1469-7cc5-45fd-9b90-361ee7e7a94a",
   "metadata": {},
   "outputs": [
    {
     "data": {
      "text/plain": [
       "<seaborn.axisgrid.PairGrid at 0x1b9423a94f0>"
      ]
     },
     "execution_count": 34,
     "metadata": {},
     "output_type": "execute_result"
    },
    {
     "data": {
      "image/png": "[encoded data removed]",
      "text/plain": [
       "<Figure size 655.2x540 with 12 Axes>"
      ]
     },
     "metadata": {
      "needs_background": "light"
     },
     "output_type": "display_data"
    }
   ],
   "source": [
    "sns.pairplot(new_df[['ctc_max', 'cwc_max', 'csc_max', 'is_duplicate']],hue='is_duplicate')"
   ]
  },
  {
   "cell_type": "code",
   "execution_count": 35,
   "id": "e46dcfaa-386f-4414-be4a-c071098b98a4",
   "metadata": {},
   "outputs": [
    {
     "data": {
      "text/plain": [
       "<seaborn.axisgrid.PairGrid at 0x1b9435986d0>"
      ]
     },
     "execution_count": 35,
     "metadata": {},
     "output_type": "execute_result"
    },
    {
     "data": {
      "image/png": "[encoded data removed]",
      "text/plain": [
       "<Figure size 475.2x360 with 6 Axes>"
      ]
     },
     "metadata": {
      "needs_background": "light"
     },
     "output_type": "display_data"
    }
   ],
   "source": [
    "sns.pairplot(new_df[['last_word_eq', 'first_word_eq', 'is_duplicate']],hue='is_duplicate')"
   ]
  },
  {
   "cell_type": "code",
   "execution_count": 36,
   "id": "86a557b5-ef35-4181-a35b-e5297be4ee0c",
   "metadata": {},
   "outputs": [
    {
     "data": {
      "text/plain": [
       "<seaborn.axisgrid.PairGrid at 0x1b947d19fd0>"
      ]
     },
     "execution_count": 36,
     "metadata": {},
     "output_type": "execute_result"
    },
    {
     "data": {
      "image/png": "[encoded data removed]",
      "text/plain": [
       "<Figure size 655.2x540 with 12 Axes>"
      ]
     },
     "metadata": {
      "needs_background": "light"
     },
     "output_type": "display_data"
    }
   ],
   "source": [
    "sns.pairplot(new_df[['mean_len', 'abs_len_diff','longest_substr_ratio', 'is_duplicate']],hue='is_duplicate')"
   ]
  },
  {
   "cell_type": "markdown",
   "id": "fffa4293-c065-48fd-b735-64991d1138b3",
   "metadata": {
    "tags": []
   },
   "source": [
    "## NLP Models\n",
    "***"
   ]
  },
  {
   "cell_type": "code",
   "execution_count": 37,
   "id": "d3bdee3a-4af3-475f-acac-e443e732f223",
   "metadata": {},
   "outputs": [
    {
     "data": {
      "text/html": [
       "<div>\n",
       "<style scoped>\n",
       "    .dataframe tbody tr th:only-of-type {\n",
       "        vertical-align: middle;\n",
       "    }\n",
       "\n",
       "    .dataframe tbody tr th {\n",
       "        vertical-align: top;\n",
       "    }\n",
       "\n",
       "    .dataframe thead th {\n",
       "        text-align: right;\n",
       "    }\n",
       "</style>\n",
       "<table border=\"1\" class=\"dataframe\">\n",
       "  <thead>\n",
       "    <tr style=\"text-align: right;\">\n",
       "      <th></th>\n",
       "      <th>question1</th>\n",
       "      <th>question2</th>\n",
       "    </tr>\n",
       "  </thead>\n",
       "  <tbody>\n",
       "    <tr>\n",
       "      <th>398532</th>\n",
       "      <td>On average how many Hollywood films are releas...</td>\n",
       "      <td>What are the best Hollywood movies of 2015</td>\n",
       "    </tr>\n",
       "    <tr>\n",
       "      <th>321088</th>\n",
       "      <td>Is you ai not shit a compliment or insult</td>\n",
       "      <td>What is the best compliment a girl can get for...</td>\n",
       "    </tr>\n",
       "    <tr>\n",
       "      <th>87970</th>\n",
       "      <td>Is there any app to lock WhatsApp s particular...</td>\n",
       "      <td>What is the difference between WeChat and What...</td>\n",
       "    </tr>\n",
       "    <tr>\n",
       "      <th>382759</th>\n",
       "      <td>Have the Ancient Mayans been scientifically te...</td>\n",
       "      <td>Has Ancient Egypt been scientifically tested</td>\n",
       "    </tr>\n",
       "    <tr>\n",
       "      <th>195718</th>\n",
       "      <td>How is noise pollution caused</td>\n",
       "      <td>What are the causes of noise pollution</td>\n",
       "    </tr>\n",
       "  </tbody>\n",
       "</table>\n",
       "</div>"
      ],
      "text/plain": [
       "                                                question1  \\\n",
       "398532  On average how many Hollywood films are releas...   \n",
       "321088          Is you ai not shit a compliment or insult   \n",
       "87970   Is there any app to lock WhatsApp s particular...   \n",
       "382759  Have the Ancient Mayans been scientifically te...   \n",
       "195718                      How is noise pollution caused   \n",
       "\n",
       "                                                question2  \n",
       "398532         What are the best Hollywood movies of 2015  \n",
       "321088  What is the best compliment a girl can get for...  \n",
       "87970   What is the difference between WeChat and What...  \n",
       "382759       Has Ancient Egypt been scientifically tested  \n",
       "195718             What are the causes of noise pollution  "
      ]
     },
     "execution_count": 37,
     "metadata": {},
     "output_type": "execute_result"
    }
   ],
   "source": [
    "ques_df = new_df[['question1','question2']]\n",
    "ques_df.head()"
   ]
  },
  {
   "cell_type": "code",
   "execution_count": 38,
   "id": "9dad1c7b-92d3-492b-b1e3-25141ec758f3",
   "metadata": {},
   "outputs": [
    {
     "name": "stdout",
     "output_type": "stream",
     "text": [
      "(30000, 19)\n"
     ]
    },
    {
     "data": {
      "text/html": [
       "<div>\n",
       "<style scoped>\n",
       "    .dataframe tbody tr th:only-of-type {\n",
       "        vertical-align: middle;\n",
       "    }\n",
       "\n",
       "    .dataframe tbody tr th {\n",
       "        vertical-align: top;\n",
       "    }\n",
       "\n",
       "    .dataframe thead th {\n",
       "        text-align: right;\n",
       "    }\n",
       "</style>\n",
       "<table border=\"1\" class=\"dataframe\">\n",
       "  <thead>\n",
       "    <tr style=\"text-align: right;\">\n",
       "      <th></th>\n",
       "      <th>is_duplicate</th>\n",
       "      <th>q1_len</th>\n",
       "      <th>q2_len</th>\n",
       "      <th>q1_num_words</th>\n",
       "      <th>q2_num_words</th>\n",
       "      <th>common_word</th>\n",
       "      <th>word_total</th>\n",
       "      <th>word_share</th>\n",
       "      <th>cwc_min</th>\n",
       "      <th>cwc_max</th>\n",
       "      <th>csc_min</th>\n",
       "      <th>csc_max</th>\n",
       "      <th>ctc_min</th>\n",
       "      <th>ctc_max</th>\n",
       "      <th>last_word_eq</th>\n",
       "      <th>first_word_eq</th>\n",
       "      <th>abs_len_diff</th>\n",
       "      <th>mean_len</th>\n",
       "      <th>longest_substr_ratio</th>\n",
       "    </tr>\n",
       "  </thead>\n",
       "  <tbody>\n",
       "    <tr>\n",
       "      <th>398532</th>\n",
       "      <td>0</td>\n",
       "      <td>58</td>\n",
       "      <td>42</td>\n",
       "      <td>11</td>\n",
       "      <td>8</td>\n",
       "      <td>2</td>\n",
       "      <td>19</td>\n",
       "      <td>0.11</td>\n",
       "      <td>0.181817</td>\n",
       "      <td>0.142855</td>\n",
       "      <td>0.0</td>\n",
       "      <td>0.0</td>\n",
       "      <td>0.0</td>\n",
       "      <td>0.0</td>\n",
       "      <td>0.0</td>\n",
       "      <td>0.0</td>\n",
       "      <td>3.0</td>\n",
       "      <td>9.5</td>\n",
       "      <td>0.255814</td>\n",
       "    </tr>\n",
       "    <tr>\n",
       "      <th>321088</th>\n",
       "      <td>0</td>\n",
       "      <td>41</td>\n",
       "      <td>56</td>\n",
       "      <td>9</td>\n",
       "      <td>12</td>\n",
       "      <td>3</td>\n",
       "      <td>21</td>\n",
       "      <td>0.14</td>\n",
       "      <td>0.166665</td>\n",
       "      <td>0.166664</td>\n",
       "      <td>0.0</td>\n",
       "      <td>0.0</td>\n",
       "      <td>0.0</td>\n",
       "      <td>0.0</td>\n",
       "      <td>0.0</td>\n",
       "      <td>0.0</td>\n",
       "      <td>3.0</td>\n",
       "      <td>10.5</td>\n",
       "      <td>0.285714</td>\n",
       "    </tr>\n",
       "    <tr>\n",
       "      <th>87970</th>\n",
       "      <td>0</td>\n",
       "      <td>62</td>\n",
       "      <td>50</td>\n",
       "      <td>12</td>\n",
       "      <td>8</td>\n",
       "      <td>3</td>\n",
       "      <td>20</td>\n",
       "      <td>0.15</td>\n",
       "      <td>0.166665</td>\n",
       "      <td>0.142855</td>\n",
       "      <td>0.0</td>\n",
       "      <td>0.0</td>\n",
       "      <td>0.0</td>\n",
       "      <td>0.0</td>\n",
       "      <td>0.0</td>\n",
       "      <td>0.0</td>\n",
       "      <td>4.0</td>\n",
       "      <td>10.0</td>\n",
       "      <td>0.176471</td>\n",
       "    </tr>\n",
       "    <tr>\n",
       "      <th>382759</th>\n",
       "      <td>1</td>\n",
       "      <td>50</td>\n",
       "      <td>44</td>\n",
       "      <td>7</td>\n",
       "      <td>6</td>\n",
       "      <td>4</td>\n",
       "      <td>13</td>\n",
       "      <td>0.31</td>\n",
       "      <td>0.571420</td>\n",
       "      <td>0.599988</td>\n",
       "      <td>0.0</td>\n",
       "      <td>0.0</td>\n",
       "      <td>0.0</td>\n",
       "      <td>0.0</td>\n",
       "      <td>1.0</td>\n",
       "      <td>0.0</td>\n",
       "      <td>1.0</td>\n",
       "      <td>6.5</td>\n",
       "      <td>0.600000</td>\n",
       "    </tr>\n",
       "    <tr>\n",
       "      <th>195718</th>\n",
       "      <td>1</td>\n",
       "      <td>29</td>\n",
       "      <td>38</td>\n",
       "      <td>5</td>\n",
       "      <td>7</td>\n",
       "      <td>2</td>\n",
       "      <td>12</td>\n",
       "      <td>0.17</td>\n",
       "      <td>0.285710</td>\n",
       "      <td>0.499988</td>\n",
       "      <td>0.0</td>\n",
       "      <td>0.0</td>\n",
       "      <td>0.0</td>\n",
       "      <td>0.0</td>\n",
       "      <td>0.0</td>\n",
       "      <td>0.0</td>\n",
       "      <td>2.0</td>\n",
       "      <td>6.0</td>\n",
       "      <td>0.533333</td>\n",
       "    </tr>\n",
       "  </tbody>\n",
       "</table>\n",
       "</div>"
      ],
      "text/plain": [
       "        is_duplicate  q1_len  q2_len  q1_num_words  q2_num_words  common_word  \\\n",
       "398532             0      58      42            11             8            2   \n",
       "321088             0      41      56             9            12            3   \n",
       "87970              0      62      50            12             8            3   \n",
       "382759             1      50      44             7             6            4   \n",
       "195718             1      29      38             5             7            2   \n",
       "\n",
       "        word_total  word_share   cwc_min   cwc_max  csc_min  csc_max  ctc_min  \\\n",
       "398532          19        0.11  0.181817  0.142855      0.0      0.0      0.0   \n",
       "321088          21        0.14  0.166665  0.166664      0.0      0.0      0.0   \n",
       "87970           20        0.15  0.166665  0.142855      0.0      0.0      0.0   \n",
       "382759          13        0.31  0.571420  0.599988      0.0      0.0      0.0   \n",
       "195718          12        0.17  0.285710  0.499988      0.0      0.0      0.0   \n",
       "\n",
       "        ctc_max  last_word_eq  first_word_eq  abs_len_diff  mean_len  \\\n",
       "398532      0.0           0.0            0.0           3.0       9.5   \n",
       "321088      0.0           0.0            0.0           3.0      10.5   \n",
       "87970       0.0           0.0            0.0           4.0      10.0   \n",
       "382759      0.0           1.0            0.0           1.0       6.5   \n",
       "195718      0.0           0.0            0.0           2.0       6.0   \n",
       "\n",
       "        longest_substr_ratio  \n",
       "398532              0.255814  \n",
       "321088              0.285714  \n",
       "87970               0.176471  \n",
       "382759              0.600000  \n",
       "195718              0.533333  "
      ]
     },
     "execution_count": 38,
     "metadata": {},
     "output_type": "execute_result"
    }
   ],
   "source": [
    "final_df = new_df.drop(columns=['id','qid1','qid2','question1','question2'])\n",
    "print(final_df.shape)\n",
    "final_df.head()"
   ]
  },
  {
   "cell_type": "markdown",
   "id": "c3c8d6b2-0162-4fa1-bdc4-c90128a6a843",
   "metadata": {},
   "source": [
    "* #### BOW"
   ]
  },
  {
   "cell_type": "code",
   "execution_count": 39,
   "id": "68b4ae17-8231-4b58-a380-30b7a1e16f7f",
   "metadata": {},
   "outputs": [],
   "source": [
    "from sklearn.feature_extraction.text import CountVectorizer\n",
    "\n",
    "questions = list(ques_df['question1']) + list(ques_df['question2'])\n",
    "\n",
    "cv = CountVectorizer(max_features = 3000)\n",
    "q1_arr , q2_arr = np.vsplit(cv.fit_transform(questions).toarray(),2)"
   ]
  },
  {
   "cell_type": "code",
   "execution_count": 40,
   "id": "7ebc4558-fec8-4b3b-a706-f5c4d7f7d136",
   "metadata": {},
   "outputs": [],
   "source": [
    "temp_df1 = pd.DataFrame(q1_arr , index=ques_df.index)\n",
    "temp_df2 = pd.DataFrame(q2_arr , index=ques_df.index)\n",
    "\n",
    "temp_df = pd.concat([temp_df1,temp_df2],axis=1)"
   ]
  },
  {
   "cell_type": "code",
   "execution_count": 41,
   "id": "5ccbfc70-ee6d-4ca1-acc1-ba98fc103c5f",
   "metadata": {},
   "outputs": [
    {
     "data": {
      "text/html": [
       "<div>\n",
       "<style scoped>\n",
       "    .dataframe tbody tr th:only-of-type {\n",
       "        vertical-align: middle;\n",
       "    }\n",
       "\n",
       "    .dataframe tbody tr th {\n",
       "        vertical-align: top;\n",
       "    }\n",
       "\n",
       "    .dataframe thead th {\n",
       "        text-align: right;\n",
       "    }\n",
       "</style>\n",
       "<table border=\"1\" class=\"dataframe\">\n",
       "  <thead>\n",
       "    <tr style=\"text-align: right;\">\n",
       "      <th></th>\n",
       "      <th>0</th>\n",
       "      <th>1</th>\n",
       "      <th>2</th>\n",
       "      <th>3</th>\n",
       "      <th>4</th>\n",
       "      <th>5</th>\n",
       "      <th>6</th>\n",
       "      <th>7</th>\n",
       "      <th>8</th>\n",
       "      <th>9</th>\n",
       "      <th>...</th>\n",
       "      <th>2990</th>\n",
       "      <th>2991</th>\n",
       "      <th>2992</th>\n",
       "      <th>2993</th>\n",
       "      <th>2994</th>\n",
       "      <th>2995</th>\n",
       "      <th>2996</th>\n",
       "      <th>2997</th>\n",
       "      <th>2998</th>\n",
       "      <th>2999</th>\n",
       "    </tr>\n",
       "  </thead>\n",
       "  <tbody>\n",
       "    <tr>\n",
       "      <th>398532</th>\n",
       "      <td>0</td>\n",
       "      <td>0</td>\n",
       "      <td>0</td>\n",
       "      <td>0</td>\n",
       "      <td>0</td>\n",
       "      <td>0</td>\n",
       "      <td>0</td>\n",
       "      <td>0</td>\n",
       "      <td>0</td>\n",
       "      <td>0</td>\n",
       "      <td>...</td>\n",
       "      <td>0</td>\n",
       "      <td>0</td>\n",
       "      <td>0</td>\n",
       "      <td>0</td>\n",
       "      <td>0</td>\n",
       "      <td>0</td>\n",
       "      <td>0</td>\n",
       "      <td>0</td>\n",
       "      <td>0</td>\n",
       "      <td>0</td>\n",
       "    </tr>\n",
       "    <tr>\n",
       "      <th>321088</th>\n",
       "      <td>0</td>\n",
       "      <td>0</td>\n",
       "      <td>0</td>\n",
       "      <td>0</td>\n",
       "      <td>0</td>\n",
       "      <td>0</td>\n",
       "      <td>0</td>\n",
       "      <td>0</td>\n",
       "      <td>0</td>\n",
       "      <td>0</td>\n",
       "      <td>...</td>\n",
       "      <td>0</td>\n",
       "      <td>0</td>\n",
       "      <td>0</td>\n",
       "      <td>0</td>\n",
       "      <td>0</td>\n",
       "      <td>0</td>\n",
       "      <td>0</td>\n",
       "      <td>0</td>\n",
       "      <td>0</td>\n",
       "      <td>0</td>\n",
       "    </tr>\n",
       "    <tr>\n",
       "      <th>87970</th>\n",
       "      <td>0</td>\n",
       "      <td>0</td>\n",
       "      <td>0</td>\n",
       "      <td>0</td>\n",
       "      <td>0</td>\n",
       "      <td>0</td>\n",
       "      <td>0</td>\n",
       "      <td>0</td>\n",
       "      <td>0</td>\n",
       "      <td>0</td>\n",
       "      <td>...</td>\n",
       "      <td>0</td>\n",
       "      <td>0</td>\n",
       "      <td>0</td>\n",
       "      <td>0</td>\n",
       "      <td>0</td>\n",
       "      <td>0</td>\n",
       "      <td>0</td>\n",
       "      <td>0</td>\n",
       "      <td>0</td>\n",
       "      <td>0</td>\n",
       "    </tr>\n",
       "    <tr>\n",
       "      <th>382759</th>\n",
       "      <td>0</td>\n",
       "      <td>0</td>\n",
       "      <td>0</td>\n",
       "      <td>0</td>\n",
       "      <td>0</td>\n",
       "      <td>0</td>\n",
       "      <td>0</td>\n",
       "      <td>0</td>\n",
       "      <td>0</td>\n",
       "      <td>0</td>\n",
       "      <td>...</td>\n",
       "      <td>0</td>\n",
       "      <td>0</td>\n",
       "      <td>0</td>\n",
       "      <td>0</td>\n",
       "      <td>0</td>\n",
       "      <td>0</td>\n",
       "      <td>0</td>\n",
       "      <td>0</td>\n",
       "      <td>0</td>\n",
       "      <td>0</td>\n",
       "    </tr>\n",
       "    <tr>\n",
       "      <th>195718</th>\n",
       "      <td>0</td>\n",
       "      <td>0</td>\n",
       "      <td>0</td>\n",
       "      <td>0</td>\n",
       "      <td>0</td>\n",
       "      <td>0</td>\n",
       "      <td>0</td>\n",
       "      <td>0</td>\n",
       "      <td>0</td>\n",
       "      <td>0</td>\n",
       "      <td>...</td>\n",
       "      <td>0</td>\n",
       "      <td>0</td>\n",
       "      <td>0</td>\n",
       "      <td>0</td>\n",
       "      <td>0</td>\n",
       "      <td>0</td>\n",
       "      <td>0</td>\n",
       "      <td>0</td>\n",
       "      <td>0</td>\n",
       "      <td>0</td>\n",
       "    </tr>\n",
       "  </tbody>\n",
       "</table>\n",
       "<p>5 rows × 6000 columns</p>\n",
       "</div>"
      ],
      "text/plain": [
       "        0     1     2     3     4     5     6     7     8     9     ...  2990  \\\n",
       "398532     0     0     0     0     0     0     0     0     0     0  ...     0   \n",
       "321088     0     0     0     0     0     0     0     0     0     0  ...     0   \n",
       "87970      0     0     0     0     0     0     0     0     0     0  ...     0   \n",
       "382759     0     0     0     0     0     0     0     0     0     0  ...     0   \n",
       "195718     0     0     0     0     0     0     0     0     0     0  ...     0   \n",
       "\n",
       "        2991  2992  2993  2994  2995  2996  2997  2998  2999  \n",
       "398532     0     0     0     0     0     0     0     0     0  \n",
       "321088     0     0     0     0     0     0     0     0     0  \n",
       "87970      0     0     0     0     0     0     0     0     0  \n",
       "382759     0     0     0     0     0     0     0     0     0  \n",
       "195718     0     0     0     0     0     0     0     0     0  \n",
       "\n",
       "[5 rows x 6000 columns]"
      ]
     },
     "execution_count": 41,
     "metadata": {},
     "output_type": "execute_result"
    }
   ],
   "source": [
    "temp_df.head()"
   ]
  },
  {
   "cell_type": "code",
   "execution_count": 42,
   "id": "0b191235-591b-4e45-8ae7-778b923ab6fd",
   "metadata": {},
   "outputs": [
    {
     "data": {
      "text/html": [
       "<div>\n",
       "<style scoped>\n",
       "    .dataframe tbody tr th:only-of-type {\n",
       "        vertical-align: middle;\n",
       "    }\n",
       "\n",
       "    .dataframe tbody tr th {\n",
       "        vertical-align: top;\n",
       "    }\n",
       "\n",
       "    .dataframe thead th {\n",
       "        text-align: right;\n",
       "    }\n",
       "</style>\n",
       "<table border=\"1\" class=\"dataframe\">\n",
       "  <thead>\n",
       "    <tr style=\"text-align: right;\">\n",
       "      <th></th>\n",
       "      <th>is_duplicate</th>\n",
       "      <th>q1_len</th>\n",
       "      <th>q2_len</th>\n",
       "      <th>q1_num_words</th>\n",
       "      <th>q2_num_words</th>\n",
       "      <th>common_word</th>\n",
       "      <th>word_total</th>\n",
       "      <th>word_share</th>\n",
       "      <th>cwc_min</th>\n",
       "      <th>cwc_max</th>\n",
       "      <th>...</th>\n",
       "      <th>2990</th>\n",
       "      <th>2991</th>\n",
       "      <th>2992</th>\n",
       "      <th>2993</th>\n",
       "      <th>2994</th>\n",
       "      <th>2995</th>\n",
       "      <th>2996</th>\n",
       "      <th>2997</th>\n",
       "      <th>2998</th>\n",
       "      <th>2999</th>\n",
       "    </tr>\n",
       "  </thead>\n",
       "  <tbody>\n",
       "    <tr>\n",
       "      <th>398532</th>\n",
       "      <td>0</td>\n",
       "      <td>58</td>\n",
       "      <td>42</td>\n",
       "      <td>11</td>\n",
       "      <td>8</td>\n",
       "      <td>2</td>\n",
       "      <td>19</td>\n",
       "      <td>0.11</td>\n",
       "      <td>0.181817</td>\n",
       "      <td>0.142855</td>\n",
       "      <td>...</td>\n",
       "      <td>0</td>\n",
       "      <td>0</td>\n",
       "      <td>0</td>\n",
       "      <td>0</td>\n",
       "      <td>0</td>\n",
       "      <td>0</td>\n",
       "      <td>0</td>\n",
       "      <td>0</td>\n",
       "      <td>0</td>\n",
       "      <td>0</td>\n",
       "    </tr>\n",
       "    <tr>\n",
       "      <th>321088</th>\n",
       "      <td>0</td>\n",
       "      <td>41</td>\n",
       "      <td>56</td>\n",
       "      <td>9</td>\n",
       "      <td>12</td>\n",
       "      <td>3</td>\n",
       "      <td>21</td>\n",
       "      <td>0.14</td>\n",
       "      <td>0.166665</td>\n",
       "      <td>0.166664</td>\n",
       "      <td>...</td>\n",
       "      <td>0</td>\n",
       "      <td>0</td>\n",
       "      <td>0</td>\n",
       "      <td>0</td>\n",
       "      <td>0</td>\n",
       "      <td>0</td>\n",
       "      <td>0</td>\n",
       "      <td>0</td>\n",
       "      <td>0</td>\n",
       "      <td>0</td>\n",
       "    </tr>\n",
       "    <tr>\n",
       "      <th>87970</th>\n",
       "      <td>0</td>\n",
       "      <td>62</td>\n",
       "      <td>50</td>\n",
       "      <td>12</td>\n",
       "      <td>8</td>\n",
       "      <td>3</td>\n",
       "      <td>20</td>\n",
       "      <td>0.15</td>\n",
       "      <td>0.166665</td>\n",
       "      <td>0.142855</td>\n",
       "      <td>...</td>\n",
       "      <td>0</td>\n",
       "      <td>0</td>\n",
       "      <td>0</td>\n",
       "      <td>0</td>\n",
       "      <td>0</td>\n",
       "      <td>0</td>\n",
       "      <td>0</td>\n",
       "      <td>0</td>\n",
       "      <td>0</td>\n",
       "      <td>0</td>\n",
       "    </tr>\n",
       "    <tr>\n",
       "      <th>382759</th>\n",
       "      <td>1</td>\n",
       "      <td>50</td>\n",
       "      <td>44</td>\n",
       "      <td>7</td>\n",
       "      <td>6</td>\n",
       "      <td>4</td>\n",
       "      <td>13</td>\n",
       "      <td>0.31</td>\n",
       "      <td>0.571420</td>\n",
       "      <td>0.599988</td>\n",
       "      <td>...</td>\n",
       "      <td>0</td>\n",
       "      <td>0</td>\n",
       "      <td>0</td>\n",
       "      <td>0</td>\n",
       "      <td>0</td>\n",
       "      <td>0</td>\n",
       "      <td>0</td>\n",
       "      <td>0</td>\n",
       "      <td>0</td>\n",
       "      <td>0</td>\n",
       "    </tr>\n",
       "    <tr>\n",
       "      <th>195718</th>\n",
       "      <td>1</td>\n",
       "      <td>29</td>\n",
       "      <td>38</td>\n",
       "      <td>5</td>\n",
       "      <td>7</td>\n",
       "      <td>2</td>\n",
       "      <td>12</td>\n",
       "      <td>0.17</td>\n",
       "      <td>0.285710</td>\n",
       "      <td>0.499988</td>\n",
       "      <td>...</td>\n",
       "      <td>0</td>\n",
       "      <td>0</td>\n",
       "      <td>0</td>\n",
       "      <td>0</td>\n",
       "      <td>0</td>\n",
       "      <td>0</td>\n",
       "      <td>0</td>\n",
       "      <td>0</td>\n",
       "      <td>0</td>\n",
       "      <td>0</td>\n",
       "    </tr>\n",
       "  </tbody>\n",
       "</table>\n",
       "<p>5 rows × 6019 columns</p>\n",
       "</div>"
      ],
      "text/plain": [
       "        is_duplicate  q1_len  q2_len  q1_num_words  q2_num_words  common_word  \\\n",
       "398532             0      58      42            11             8            2   \n",
       "321088             0      41      56             9            12            3   \n",
       "87970              0      62      50            12             8            3   \n",
       "382759             1      50      44             7             6            4   \n",
       "195718             1      29      38             5             7            2   \n",
       "\n",
       "        word_total  word_share   cwc_min   cwc_max  ...  2990  2991  2992  \\\n",
       "398532          19        0.11  0.181817  0.142855  ...     0     0     0   \n",
       "321088          21        0.14  0.166665  0.166664  ...     0     0     0   \n",
       "87970           20        0.15  0.166665  0.142855  ...     0     0     0   \n",
       "382759          13        0.31  0.571420  0.599988  ...     0     0     0   \n",
       "195718          12        0.17  0.285710  0.499988  ...     0     0     0   \n",
       "\n",
       "        2993  2994  2995  2996  2997  2998  2999  \n",
       "398532     0     0     0     0     0     0     0  \n",
       "321088     0     0     0     0     0     0     0  \n",
       "87970      0     0     0     0     0     0     0  \n",
       "382759     0     0     0     0     0     0     0  \n",
       "195718     0     0     0     0     0     0     0  \n",
       "\n",
       "[5 rows x 6019 columns]"
      ]
     },
     "execution_count": 42,
     "metadata": {},
     "output_type": "execute_result"
    }
   ],
   "source": [
    "final_df_bow = pd.concat([final_df, temp_df], axis=1)\n",
    "final_df_bow.head()"
   ]
  },
  {
   "cell_type": "markdown",
   "id": "b10a7e79-1e79-4d85-9c10-49f1a2fe21f0",
   "metadata": {},
   "source": [
    "* #### TF-IDF"
   ]
  },
  {
   "cell_type": "code",
   "execution_count": 43,
   "id": "66a499b0-64cc-4d7d-adf9-33a09429de67",
   "metadata": {},
   "outputs": [],
   "source": [
    "from sklearn.feature_extraction.text import TfidfVectorizer\n",
    "\n",
    "questions = list(ques_df['question1']) + list(ques_df['question2'])\n",
    "\n",
    "idf = TfidfVectorizer(max_features = 3000)\n",
    "q1_arr , q2_arr = np.vsplit(idf.fit_transform(questions).toarray(),2)"
   ]
  },
  {
   "cell_type": "code",
   "execution_count": 44,
   "id": "02c3a010-1182-4137-8398-568b0a5f54ad",
   "metadata": {},
   "outputs": [
    {
     "name": "stdout",
     "output_type": "stream",
     "text": [
      "(30000, 6000)\n"
     ]
    }
   ],
   "source": [
    "temp_df1_idf = pd.DataFrame(q1_arr , index=ques_df.index)\n",
    "temp_df2_idf = pd.DataFrame(q2_arr , index=ques_df.index)\n",
    "\n",
    "temp_df_idf = pd.concat([temp_df1_idf,temp_df2_idf],axis=1)\n",
    "print(temp_df_idf.shape)"
   ]
  },
  {
   "cell_type": "code",
   "execution_count": 45,
   "id": "3a039a79-d8b8-4812-8034-36a73e045b7b",
   "metadata": {},
   "outputs": [
    {
     "data": {
      "text/html": [
       "<div>\n",
       "<style scoped>\n",
       "    .dataframe tbody tr th:only-of-type {\n",
       "        vertical-align: middle;\n",
       "    }\n",
       "\n",
       "    .dataframe tbody tr th {\n",
       "        vertical-align: top;\n",
       "    }\n",
       "\n",
       "    .dataframe thead th {\n",
       "        text-align: right;\n",
       "    }\n",
       "</style>\n",
       "<table border=\"1\" class=\"dataframe\">\n",
       "  <thead>\n",
       "    <tr style=\"text-align: right;\">\n",
       "      <th></th>\n",
       "      <th>0</th>\n",
       "      <th>1</th>\n",
       "      <th>2</th>\n",
       "      <th>3</th>\n",
       "      <th>4</th>\n",
       "      <th>5</th>\n",
       "      <th>6</th>\n",
       "      <th>7</th>\n",
       "      <th>8</th>\n",
       "      <th>9</th>\n",
       "      <th>...</th>\n",
       "      <th>2990</th>\n",
       "      <th>2991</th>\n",
       "      <th>2992</th>\n",
       "      <th>2993</th>\n",
       "      <th>2994</th>\n",
       "      <th>2995</th>\n",
       "      <th>2996</th>\n",
       "      <th>2997</th>\n",
       "      <th>2998</th>\n",
       "      <th>2999</th>\n",
       "    </tr>\n",
       "  </thead>\n",
       "  <tbody>\n",
       "    <tr>\n",
       "      <th>398532</th>\n",
       "      <td>0.0</td>\n",
       "      <td>0.0</td>\n",
       "      <td>0.0</td>\n",
       "      <td>0.0</td>\n",
       "      <td>0.0</td>\n",
       "      <td>0.0</td>\n",
       "      <td>0.0</td>\n",
       "      <td>0.0</td>\n",
       "      <td>0.0</td>\n",
       "      <td>0.0</td>\n",
       "      <td>...</td>\n",
       "      <td>0.0</td>\n",
       "      <td>0.0</td>\n",
       "      <td>0.0</td>\n",
       "      <td>0.0</td>\n",
       "      <td>0.0</td>\n",
       "      <td>0.0</td>\n",
       "      <td>0.0</td>\n",
       "      <td>0.0</td>\n",
       "      <td>0.0</td>\n",
       "      <td>0.0</td>\n",
       "    </tr>\n",
       "    <tr>\n",
       "      <th>321088</th>\n",
       "      <td>0.0</td>\n",
       "      <td>0.0</td>\n",
       "      <td>0.0</td>\n",
       "      <td>0.0</td>\n",
       "      <td>0.0</td>\n",
       "      <td>0.0</td>\n",
       "      <td>0.0</td>\n",
       "      <td>0.0</td>\n",
       "      <td>0.0</td>\n",
       "      <td>0.0</td>\n",
       "      <td>...</td>\n",
       "      <td>0.0</td>\n",
       "      <td>0.0</td>\n",
       "      <td>0.0</td>\n",
       "      <td>0.0</td>\n",
       "      <td>0.0</td>\n",
       "      <td>0.0</td>\n",
       "      <td>0.0</td>\n",
       "      <td>0.0</td>\n",
       "      <td>0.0</td>\n",
       "      <td>0.0</td>\n",
       "    </tr>\n",
       "    <tr>\n",
       "      <th>87970</th>\n",
       "      <td>0.0</td>\n",
       "      <td>0.0</td>\n",
       "      <td>0.0</td>\n",
       "      <td>0.0</td>\n",
       "      <td>0.0</td>\n",
       "      <td>0.0</td>\n",
       "      <td>0.0</td>\n",
       "      <td>0.0</td>\n",
       "      <td>0.0</td>\n",
       "      <td>0.0</td>\n",
       "      <td>...</td>\n",
       "      <td>0.0</td>\n",
       "      <td>0.0</td>\n",
       "      <td>0.0</td>\n",
       "      <td>0.0</td>\n",
       "      <td>0.0</td>\n",
       "      <td>0.0</td>\n",
       "      <td>0.0</td>\n",
       "      <td>0.0</td>\n",
       "      <td>0.0</td>\n",
       "      <td>0.0</td>\n",
       "    </tr>\n",
       "    <tr>\n",
       "      <th>382759</th>\n",
       "      <td>0.0</td>\n",
       "      <td>0.0</td>\n",
       "      <td>0.0</td>\n",
       "      <td>0.0</td>\n",
       "      <td>0.0</td>\n",
       "      <td>0.0</td>\n",
       "      <td>0.0</td>\n",
       "      <td>0.0</td>\n",
       "      <td>0.0</td>\n",
       "      <td>0.0</td>\n",
       "      <td>...</td>\n",
       "      <td>0.0</td>\n",
       "      <td>0.0</td>\n",
       "      <td>0.0</td>\n",
       "      <td>0.0</td>\n",
       "      <td>0.0</td>\n",
       "      <td>0.0</td>\n",
       "      <td>0.0</td>\n",
       "      <td>0.0</td>\n",
       "      <td>0.0</td>\n",
       "      <td>0.0</td>\n",
       "    </tr>\n",
       "    <tr>\n",
       "      <th>195718</th>\n",
       "      <td>0.0</td>\n",
       "      <td>0.0</td>\n",
       "      <td>0.0</td>\n",
       "      <td>0.0</td>\n",
       "      <td>0.0</td>\n",
       "      <td>0.0</td>\n",
       "      <td>0.0</td>\n",
       "      <td>0.0</td>\n",
       "      <td>0.0</td>\n",
       "      <td>0.0</td>\n",
       "      <td>...</td>\n",
       "      <td>0.0</td>\n",
       "      <td>0.0</td>\n",
       "      <td>0.0</td>\n",
       "      <td>0.0</td>\n",
       "      <td>0.0</td>\n",
       "      <td>0.0</td>\n",
       "      <td>0.0</td>\n",
       "      <td>0.0</td>\n",
       "      <td>0.0</td>\n",
       "      <td>0.0</td>\n",
       "    </tr>\n",
       "  </tbody>\n",
       "</table>\n",
       "<p>5 rows × 6000 columns</p>\n",
       "</div>"
      ],
      "text/plain": [
       "        0     1     2     3     4     5     6     7     8     9     ...  2990  \\\n",
       "398532   0.0   0.0   0.0   0.0   0.0   0.0   0.0   0.0   0.0   0.0  ...   0.0   \n",
       "321088   0.0   0.0   0.0   0.0   0.0   0.0   0.0   0.0   0.0   0.0  ...   0.0   \n",
       "87970    0.0   0.0   0.0   0.0   0.0   0.0   0.0   0.0   0.0   0.0  ...   0.0   \n",
       "382759   0.0   0.0   0.0   0.0   0.0   0.0   0.0   0.0   0.0   0.0  ...   0.0   \n",
       "195718   0.0   0.0   0.0   0.0   0.0   0.0   0.0   0.0   0.0   0.0  ...   0.0   \n",
       "\n",
       "        2991  2992  2993  2994  2995  2996  2997  2998  2999  \n",
       "398532   0.0   0.0   0.0   0.0   0.0   0.0   0.0   0.0   0.0  \n",
       "321088   0.0   0.0   0.0   0.0   0.0   0.0   0.0   0.0   0.0  \n",
       "87970    0.0   0.0   0.0   0.0   0.0   0.0   0.0   0.0   0.0  \n",
       "382759   0.0   0.0   0.0   0.0   0.0   0.0   0.0   0.0   0.0  \n",
       "195718   0.0   0.0   0.0   0.0   0.0   0.0   0.0   0.0   0.0  \n",
       "\n",
       "[5 rows x 6000 columns]"
      ]
     },
     "execution_count": 45,
     "metadata": {},
     "output_type": "execute_result"
    }
   ],
   "source": [
    "temp_df_idf.head()"
   ]
  },
  {
   "cell_type": "code",
   "execution_count": 46,
   "id": "e765fb7a-2efd-47d7-9dcf-18cd5f721c3c",
   "metadata": {},
   "outputs": [
    {
     "data": {
      "text/html": [
       "<div>\n",
       "<style scoped>\n",
       "    .dataframe tbody tr th:only-of-type {\n",
       "        vertical-align: middle;\n",
       "    }\n",
       "\n",
       "    .dataframe tbody tr th {\n",
       "        vertical-align: top;\n",
       "    }\n",
       "\n",
       "    .dataframe thead th {\n",
       "        text-align: right;\n",
       "    }\n",
       "</style>\n",
       "<table border=\"1\" class=\"dataframe\">\n",
       "  <thead>\n",
       "    <tr style=\"text-align: right;\">\n",
       "      <th></th>\n",
       "      <th>is_duplicate</th>\n",
       "      <th>q1_len</th>\n",
       "      <th>q2_len</th>\n",
       "      <th>q1_num_words</th>\n",
       "      <th>q2_num_words</th>\n",
       "      <th>common_word</th>\n",
       "      <th>word_total</th>\n",
       "      <th>word_share</th>\n",
       "      <th>cwc_min</th>\n",
       "      <th>cwc_max</th>\n",
       "      <th>...</th>\n",
       "      <th>2990</th>\n",
       "      <th>2991</th>\n",
       "      <th>2992</th>\n",
       "      <th>2993</th>\n",
       "      <th>2994</th>\n",
       "      <th>2995</th>\n",
       "      <th>2996</th>\n",
       "      <th>2997</th>\n",
       "      <th>2998</th>\n",
       "      <th>2999</th>\n",
       "    </tr>\n",
       "  </thead>\n",
       "  <tbody>\n",
       "    <tr>\n",
       "      <th>398532</th>\n",
       "      <td>0</td>\n",
       "      <td>58</td>\n",
       "      <td>42</td>\n",
       "      <td>11</td>\n",
       "      <td>8</td>\n",
       "      <td>2</td>\n",
       "      <td>19</td>\n",
       "      <td>0.11</td>\n",
       "      <td>0.181817</td>\n",
       "      <td>0.142855</td>\n",
       "      <td>...</td>\n",
       "      <td>0.0</td>\n",
       "      <td>0.0</td>\n",
       "      <td>0.0</td>\n",
       "      <td>0.0</td>\n",
       "      <td>0.0</td>\n",
       "      <td>0.0</td>\n",
       "      <td>0.0</td>\n",
       "      <td>0.0</td>\n",
       "      <td>0.0</td>\n",
       "      <td>0.0</td>\n",
       "    </tr>\n",
       "    <tr>\n",
       "      <th>321088</th>\n",
       "      <td>0</td>\n",
       "      <td>41</td>\n",
       "      <td>56</td>\n",
       "      <td>9</td>\n",
       "      <td>12</td>\n",
       "      <td>3</td>\n",
       "      <td>21</td>\n",
       "      <td>0.14</td>\n",
       "      <td>0.166665</td>\n",
       "      <td>0.166664</td>\n",
       "      <td>...</td>\n",
       "      <td>0.0</td>\n",
       "      <td>0.0</td>\n",
       "      <td>0.0</td>\n",
       "      <td>0.0</td>\n",
       "      <td>0.0</td>\n",
       "      <td>0.0</td>\n",
       "      <td>0.0</td>\n",
       "      <td>0.0</td>\n",
       "      <td>0.0</td>\n",
       "      <td>0.0</td>\n",
       "    </tr>\n",
       "    <tr>\n",
       "      <th>87970</th>\n",
       "      <td>0</td>\n",
       "      <td>62</td>\n",
       "      <td>50</td>\n",
       "      <td>12</td>\n",
       "      <td>8</td>\n",
       "      <td>3</td>\n",
       "      <td>20</td>\n",
       "      <td>0.15</td>\n",
       "      <td>0.166665</td>\n",
       "      <td>0.142855</td>\n",
       "      <td>...</td>\n",
       "      <td>0.0</td>\n",
       "      <td>0.0</td>\n",
       "      <td>0.0</td>\n",
       "      <td>0.0</td>\n",
       "      <td>0.0</td>\n",
       "      <td>0.0</td>\n",
       "      <td>0.0</td>\n",
       "      <td>0.0</td>\n",
       "      <td>0.0</td>\n",
       "      <td>0.0</td>\n",
       "    </tr>\n",
       "    <tr>\n",
       "      <th>382759</th>\n",
       "      <td>1</td>\n",
       "      <td>50</td>\n",
       "      <td>44</td>\n",
       "      <td>7</td>\n",
       "      <td>6</td>\n",
       "      <td>4</td>\n",
       "      <td>13</td>\n",
       "      <td>0.31</td>\n",
       "      <td>0.571420</td>\n",
       "      <td>0.599988</td>\n",
       "      <td>...</td>\n",
       "      <td>0.0</td>\n",
       "      <td>0.0</td>\n",
       "      <td>0.0</td>\n",
       "      <td>0.0</td>\n",
       "      <td>0.0</td>\n",
       "      <td>0.0</td>\n",
       "      <td>0.0</td>\n",
       "      <td>0.0</td>\n",
       "      <td>0.0</td>\n",
       "      <td>0.0</td>\n",
       "    </tr>\n",
       "    <tr>\n",
       "      <th>195718</th>\n",
       "      <td>1</td>\n",
       "      <td>29</td>\n",
       "      <td>38</td>\n",
       "      <td>5</td>\n",
       "      <td>7</td>\n",
       "      <td>2</td>\n",
       "      <td>12</td>\n",
       "      <td>0.17</td>\n",
       "      <td>0.285710</td>\n",
       "      <td>0.499988</td>\n",
       "      <td>...</td>\n",
       "      <td>0.0</td>\n",
       "      <td>0.0</td>\n",
       "      <td>0.0</td>\n",
       "      <td>0.0</td>\n",
       "      <td>0.0</td>\n",
       "      <td>0.0</td>\n",
       "      <td>0.0</td>\n",
       "      <td>0.0</td>\n",
       "      <td>0.0</td>\n",
       "      <td>0.0</td>\n",
       "    </tr>\n",
       "  </tbody>\n",
       "</table>\n",
       "<p>5 rows × 6019 columns</p>\n",
       "</div>"
      ],
      "text/plain": [
       "        is_duplicate  q1_len  q2_len  q1_num_words  q2_num_words  common_word  \\\n",
       "398532             0      58      42            11             8            2   \n",
       "321088             0      41      56             9            12            3   \n",
       "87970              0      62      50            12             8            3   \n",
       "382759             1      50      44             7             6            4   \n",
       "195718             1      29      38             5             7            2   \n",
       "\n",
       "        word_total  word_share   cwc_min   cwc_max  ...  2990  2991  2992  \\\n",
       "398532          19        0.11  0.181817  0.142855  ...   0.0   0.0   0.0   \n",
       "321088          21        0.14  0.166665  0.166664  ...   0.0   0.0   0.0   \n",
       "87970           20        0.15  0.166665  0.142855  ...   0.0   0.0   0.0   \n",
       "382759          13        0.31  0.571420  0.599988  ...   0.0   0.0   0.0   \n",
       "195718          12        0.17  0.285710  0.499988  ...   0.0   0.0   0.0   \n",
       "\n",
       "        2993  2994  2995  2996  2997  2998  2999  \n",
       "398532   0.0   0.0   0.0   0.0   0.0   0.0   0.0  \n",
       "321088   0.0   0.0   0.0   0.0   0.0   0.0   0.0  \n",
       "87970    0.0   0.0   0.0   0.0   0.0   0.0   0.0  \n",
       "382759   0.0   0.0   0.0   0.0   0.0   0.0   0.0  \n",
       "195718   0.0   0.0   0.0   0.0   0.0   0.0   0.0  \n",
       "\n",
       "[5 rows x 6019 columns]"
      ]
     },
     "execution_count": 46,
     "metadata": {},
     "output_type": "execute_result"
    }
   ],
   "source": [
    "final_df_idf = pd.concat([final_df, temp_df_idf], axis=1)\n",
    "final_df_idf.head()"
   ]
  },
  {
   "cell_type": "markdown",
   "id": "5e31c4e9-6cbc-4683-8673-734505a0542d",
   "metadata": {},
   "source": [
    "* #### Train Test Spliting"
   ]
  },
  {
   "cell_type": "markdown",
   "id": "d686d369-f221-432f-99c4-0315ddbb07ae",
   "metadata": {},
   "source": [
    "> #### BOW "
   ]
  },
  {
   "cell_type": "code",
   "execution_count": 47,
   "id": "9eb75c45-3e4b-45eb-8c48-d4baa7096261",
   "metadata": {},
   "outputs": [],
   "source": [
    "x_bow = final_df_bow.iloc[:,1:].values\n",
    "y_bow = final_df_bow.iloc[:,0].values"
   ]
  },
  {
   "cell_type": "code",
   "execution_count": 48,
   "id": "a955b935-11ae-486e-9a86-ea040b0e283c",
   "metadata": {},
   "outputs": [
    {
     "data": {
      "text/plain": [
       "(30000, 6018)"
      ]
     },
     "execution_count": 48,
     "metadata": {},
     "output_type": "execute_result"
    }
   ],
   "source": [
    "x_bow.shape"
   ]
  },
  {
   "cell_type": "code",
   "execution_count": 49,
   "id": "bf1903b5-9160-4109-bb5f-2e2ea771c24b",
   "metadata": {},
   "outputs": [],
   "source": [
    "from sklearn.model_selection import train_test_split\n",
    "X_train,X_test,y_train,y_test = train_test_split(x_bow ,y_bow ,test_size=0.2,random_state=42)"
   ]
  },
  {
   "cell_type": "markdown",
   "id": "f825c0b2-a3da-483d-9871-67fd0ffe926c",
   "metadata": {},
   "source": [
    "> #### TF-IDF"
   ]
  },
  {
   "cell_type": "code",
   "execution_count": 50,
   "id": "5cb69f76-f6a1-486a-9192-e5bdb81c6885",
   "metadata": {},
   "outputs": [],
   "source": [
    "x_idf = final_df_idf.iloc[:,1:].values\n",
    "y_idf = final_df_idf.iloc[:,0].values"
   ]
  },
  {
   "cell_type": "code",
   "execution_count": 51,
   "id": "0126172a-1884-46c9-ae28-037e6d1943eb",
   "metadata": {},
   "outputs": [],
   "source": [
    "from sklearn.model_selection import train_test_split\n",
    "X_train_idf,X_test_idf,y_train_idf,y_test_idf = train_test_split(x_idf ,y_idf ,test_size=0.2,random_state=42)"
   ]
  },
  {
   "cell_type": "markdown",
   "id": "27175e2d-4333-4ef4-9f6f-ae650e15fd2b",
   "metadata": {},
   "source": [
    "## ML Models\n",
    "***"
   ]
  },
  {
   "cell_type": "markdown",
   "id": "9acdbc3b-8bc3-4ceb-a1c2-c841841fe38c",
   "metadata": {},
   "source": [
    "* #### Random Forest "
   ]
  },
  {
   "cell_type": "code",
   "execution_count": 52,
   "id": "0b08def5-a7da-431a-8c07-0e8755ed8cea",
   "metadata": {},
   "outputs": [
    {
     "data": {
      "text/plain": [
       "RandomForestClassifier()"
      ]
     },
     "execution_count": 52,
     "metadata": {},
     "output_type": "execute_result"
    }
   ],
   "source": [
    "from sklearn.ensemble import RandomForestClassifier\n",
    "rf = RandomForestClassifier()\n",
    "rf.fit(X_train,y_train)"
   ]
  },
  {
   "cell_type": "code",
   "execution_count": 53,
   "id": "f9b00c92-3dac-4fcf-90ef-8c70c9747368",
   "metadata": {},
   "outputs": [
    {
     "data": {
      "text/plain": [
       "0.7763333333333333"
      ]
     },
     "execution_count": 53,
     "metadata": {},
     "output_type": "execute_result"
    }
   ],
   "source": [
    "y_pred = rf.predict(X_test)\n",
    "accuracy_score(y_test,y_pred)"
   ]
  },
  {
   "cell_type": "code",
   "execution_count": 54,
   "id": "5e395558-b563-4cde-bced-56cfbb5e83b1",
   "metadata": {},
   "outputs": [
    {
     "data": {
      "text/plain": [
       "RandomForestClassifier()"
      ]
     },
     "execution_count": 54,
     "metadata": {},
     "output_type": "execute_result"
    }
   ],
   "source": [
    "from sklearn.ensemble import RandomForestClassifier\n",
    "rf = RandomForestClassifier()\n",
    "rf.fit(X_train_idf,y_train_idf)"
   ]
  },
  {
   "cell_type": "code",
   "execution_count": 55,
   "id": "fc7180bb-1829-43c4-becc-bb29de39bf02",
   "metadata": {},
   "outputs": [
    {
     "data": {
      "text/plain": [
       "0.7701666666666667"
      ]
     },
     "execution_count": 55,
     "metadata": {},
     "output_type": "execute_result"
    }
   ],
   "source": [
    "y_pred = rf.predict(X_test_idf)\n",
    "accuracy_score(y_test_idf,y_pred)"
   ]
  },
  {
   "cell_type": "markdown",
   "id": "36e1cf16-8f32-44b2-a35e-9d0567c39525",
   "metadata": {},
   "source": [
    "* #### Decision Tree"
   ]
  },
  {
   "cell_type": "code",
   "execution_count": 56,
   "id": "c2054718-9663-408d-824c-b0e09cde2c1f",
   "metadata": {
    "tags": []
   },
   "outputs": [
    {
     "data": {
      "text/plain": [
       "DecisionTreeClassifier(random_state=42)"
      ]
     },
     "execution_count": 56,
     "metadata": {},
     "output_type": "execute_result"
    }
   ],
   "source": [
    "from sklearn.tree import DecisionTreeClassifier\n",
    "\n",
    "dt_classifier = DecisionTreeClassifier(random_state=42)\n",
    "dt_classifier.fit(X_train, y_train)"
   ]
  },
  {
   "cell_type": "code",
   "execution_count": 57,
   "id": "96552122-0b7a-40fb-92d8-671e01253329",
   "metadata": {},
   "outputs": [
    {
     "name": "stdout",
     "output_type": "stream",
     "text": [
      "Accuracy: 0.716\n"
     ]
    }
   ],
   "source": [
    "y_pred = dt_classifier.predict(X_test)\n",
    "accuracy = accuracy_score(y_test, y_pred)\n",
    "print(\"Accuracy:\", accuracy)"
   ]
  },
  {
   "cell_type": "code",
   "execution_count": 58,
   "id": "688b11b9-4ca3-4c00-a423-7b2d51e88fac",
   "metadata": {
    "tags": []
   },
   "outputs": [
    {
     "data": {
      "text/plain": [
       "DecisionTreeClassifier(random_state=42)"
      ]
     },
     "execution_count": 58,
     "metadata": {},
     "output_type": "execute_result"
    }
   ],
   "source": [
    "from sklearn.tree import DecisionTreeClassifier\n",
    "\n",
    "dt_classifier = DecisionTreeClassifier(random_state=42)\n",
    "dt_classifier.fit(X_train_idf, y_train_idf)"
   ]
  },
  {
   "cell_type": "code",
   "execution_count": 59,
   "id": "5568abe4-f12c-4b0a-a7e5-10fd6143bee8",
   "metadata": {},
   "outputs": [
    {
     "name": "stdout",
     "output_type": "stream",
     "text": [
      "Accuracy: 0.7108333333333333\n"
     ]
    }
   ],
   "source": [
    "y_pred = dt_classifier.predict(X_test_idf)\n",
    "accuracy = accuracy_score(y_test_idf, y_pred)\n",
    "print(\"Accuracy:\", accuracy)"
   ]
  },
  {
   "cell_type": "markdown",
   "id": "c1ccdb1e-e3ab-4e78-b2bb-0e0652de0d0c",
   "metadata": {},
   "source": [
    "* #### XGBoost"
   ]
  },
  {
   "cell_type": "code",
   "execution_count": 60,
   "id": "eabb5b7c-f13e-47a3-a5a8-4f00c25529ec",
   "metadata": {},
   "outputs": [
    {
     "data": {
      "text/plain": [
       "XGBClassifier(base_score=None, booster=None, callbacks=None,\n",
       "              colsample_bylevel=None, colsample_bynode=None,\n",
       "              colsample_bytree=None, device=None, early_stopping_rounds=None,\n",
       "              enable_categorical=False, eval_metric=None, feature_types=None,\n",
       "              gamma=None, grow_policy=None, importance_type=None,\n",
       "              interaction_constraints=None, learning_rate=None, max_bin=None,\n",
       "              max_cat_threshold=None, max_cat_to_onehot=None,\n",
       "              max_delta_step=None, max_depth=None, max_leaves=None,\n",
       "              min_child_weight=None, missing=nan, monotone_constraints=None,\n",
       "              multi_strategy=None, n_estimators=None, n_jobs=None,\n",
       "              num_parallel_tree=None, random_state=None, ...)"
      ]
     },
     "execution_count": 60,
     "metadata": {},
     "output_type": "execute_result"
    }
   ],
   "source": [
    "from xgboost import XGBClassifier\n",
    "xgb = XGBClassifier()\n",
    "xgb.fit(X_train,y_train)"
   ]
  },
  {
   "cell_type": "code",
   "execution_count": 61,
   "id": "7166d181-8847-4096-88d3-c70b18e1ccb4",
   "metadata": {},
   "outputs": [
    {
     "data": {
      "text/plain": [
       "0.7676666666666667"
      ]
     },
     "execution_count": 61,
     "metadata": {},
     "output_type": "execute_result"
    }
   ],
   "source": [
    "y_pred1 = xgb.predict(X_test)\n",
    "accuracy_score(y_test,y_pred1)"
   ]
  },
  {
   "cell_type": "code",
   "execution_count": 62,
   "id": "b2c1ebf0-706a-445a-bf5b-daeda9bc5189",
   "metadata": {},
   "outputs": [
    {
     "data": {
      "text/plain": [
       "XGBClassifier(base_score=None, booster=None, callbacks=None,\n",
       "              colsample_bylevel=None, colsample_bynode=None,\n",
       "              colsample_bytree=None, device=None, early_stopping_rounds=None,\n",
       "              enable_categorical=False, eval_metric=None, feature_types=None,\n",
       "              gamma=None, grow_policy=None, importance_type=None,\n",
       "              interaction_constraints=None, learning_rate=None, max_bin=None,\n",
       "              max_cat_threshold=None, max_cat_to_onehot=None,\n",
       "              max_delta_step=None, max_depth=None, max_leaves=None,\n",
       "              min_child_weight=None, missing=nan, monotone_constraints=None,\n",
       "              multi_strategy=None, n_estimators=None, n_jobs=None,\n",
       "              num_parallel_tree=None, random_state=None, ...)"
      ]
     },
     "execution_count": 62,
     "metadata": {},
     "output_type": "execute_result"
    }
   ],
   "source": [
    "from xgboost import XGBClassifier\n",
    "xgb = XGBClassifier()\n",
    "xgb.fit(X_train_idf,y_train_idf)"
   ]
  },
  {
   "cell_type": "code",
   "execution_count": 63,
   "id": "810f7e29-658f-431f-a672-c407e7811697",
   "metadata": {},
   "outputs": [
    {
     "data": {
      "text/plain": [
       "0.7648333333333334"
      ]
     },
     "execution_count": 63,
     "metadata": {},
     "output_type": "execute_result"
    }
   ],
   "source": [
    "y_pred1 = xgb.predict(X_test_idf)\n",
    "accuracy_score(y_test_idf,y_pred1)"
   ]
  },
  {
   "cell_type": "markdown",
   "id": "1b1f814c-b4c8-48c7-817d-24f340d38ef6",
   "metadata": {},
   "source": [
    "* #### Predicting Outcome"
   ]
  },
  {
   "cell_type": "code",
   "execution_count": 64,
   "id": "c2b6ed43-0ce3-47b3-8674-db97e6cd87af",
   "metadata": {},
   "outputs": [],
   "source": [
    "def test_total_words(q1,q2):\n",
    "    w1 = set(map(lambda word: word.lower().strip(), q1.split(\" \")))\n",
    "    w2 = set(map(lambda word: word.lower().strip(), q2.split(\" \")))    \n",
    "    return (len(w1) + len(w2))"
   ]
  },
  {
   "cell_type": "code",
   "execution_count": 65,
   "id": "c03ed6df-4a6b-4ee0-8ef0-41edae3bba4c",
   "metadata": {},
   "outputs": [],
   "source": [
    "def test_common_words(q1,q2):\n",
    "    w1 = set(map(lambda word: word.lower().strip(), q1.split(\" \")))\n",
    "    w2 = set(map(lambda word: word.lower().strip(), q2.split(\" \")))    \n",
    "    return len(w1 & w2)"
   ]
  },
  {
   "cell_type": "code",
   "execution_count": 66,
   "id": "1158489f-6e27-4f0e-bc33-53f5c16e9ef8",
   "metadata": {},
   "outputs": [],
   "source": [
    "def test_fetch_token_features(q1,q2):\n",
    "    \n",
    "    SAFE_DIV = 0.0001 \n",
    "\n",
    "    STOP_WORDS = stopwords.words(\"english\")\n",
    "    \n",
    "    token_features = [0.0]*8\n",
    "    \n",
    "    # Converting the Sentence into Tokens: \n",
    "    q1_tokens = q1.split()\n",
    "    q2_tokens = q2.split()\n",
    "    \n",
    "    if len(q1_tokens) == 0 or len(q2_tokens) == 0:\n",
    "        return token_features\n",
    "\n",
    "    # Get the non-stopwords in Questions\n",
    "    q1_words = set([word for word in q1_tokens if word not in STOP_WORDS])\n",
    "    q2_words = set([word for word in q2_tokens if word not in STOP_WORDS])\n",
    "    \n",
    "    #Get the stopwords in Questions\n",
    "    q1_stops = set([word for word in q1_tokens if word in STOP_WORDS])\n",
    "    q2_stops = set([word for word in q2_tokens if word in STOP_WORDS])\n",
    "    \n",
    "    # Get the common non-stopwords from Question pair\n",
    "    common_word_count = len(q1_words.intersection(q2_words))\n",
    "    \n",
    "    # Get the common stopwords from Question pair\n",
    "    common_stop_count = len(q1_stops.intersection(q2_stops))\n",
    "    \n",
    "    # Get the common Tokens from Question pair\n",
    "    common_token_count = len(set(q1_tokens).intersection(set(q2_tokens)))\n",
    "    \n",
    "    \n",
    "    token_features[0] = common_word_count / (min(len(q1_words), len(q2_words)) + SAFE_DIV)\n",
    "    token_features[1] = common_word_count / (max(len(q1_words), len(q2_words)) + SAFE_DIV)\n",
    "    token_features[2] = common_stop_count / (min(len(q1_stops), len(q2_stops)) + SAFE_DIV)\n",
    "    token_features[3] = common_stop_count / (max(len(q1_stops), len(q2_stops)) + SAFE_DIV)\n",
    "    token_features[4] = common_token_count / (min(len(q1_tokens), len(q2_tokens)) + SAFE_DIV)\n",
    "    token_features[5] = common_token_count / (max(len(q1_tokens), len(q2_tokens)) + SAFE_DIV)\n",
    "    \n",
    "    # Last word of both question is same or not\n",
    "    token_features[6] = int(q1_tokens[-1] == q2_tokens[-1])\n",
    "    \n",
    "    # First word of both question is same or not\n",
    "    token_features[7] = int(q1_tokens[0] == q2_tokens[0])\n",
    "    \n",
    "    return token_features"
   ]
  },
  {
   "cell_type": "code",
   "execution_count": 67,
   "id": "a61d7c04-0959-4e4a-839c-3d93cf9865e9",
   "metadata": {},
   "outputs": [],
   "source": [
    "def test_fetch_length_features(q1,q2):\n",
    "    \n",
    "    length_features = [0.0]*3\n",
    "    \n",
    "    # Converting the Sentence into Tokens: \n",
    "    q1_tokens = q1.split()\n",
    "    q2_tokens = q2.split()\n",
    "    \n",
    "    if len(q1_tokens) == 0 or len(q2_tokens) == 0:\n",
    "        return length_features\n",
    "    \n",
    "    # Absolute length features\n",
    "    length_features[0] = abs(len(q1_tokens) - len(q2_tokens))\n",
    "    \n",
    "    #Average Token Length of both Questions\n",
    "    length_features[1] = (len(q1_tokens) + len(q2_tokens))/2\n",
    "    \n",
    "    strs = list(distance.lcsubstrings(q1, q2))\n",
    "    length_features[2] = len(strs[0]) / (min(len(q1), len(q2)) + 1)\n",
    "    \n",
    "    return length_features\n"
   ]
  },
  {
   "cell_type": "code",
   "execution_count": 68,
   "id": "630fc0be-63b5-41ee-8077-d6151b55caba",
   "metadata": {},
   "outputs": [],
   "source": [
    "def predicting_function(q1,q2):\n",
    "    \n",
    "    input_query = []\n",
    "    \n",
    "    # preprocess\n",
    "    q1 = preprocess(q1)\n",
    "    q2 = preprocess(q2)\n",
    "    \n",
    "    # fetch basic features\n",
    "    input_query.append(len(q1))\n",
    "    input_query.append(len(q2))\n",
    "    \n",
    "    input_query.append(len(q1.split(\" \")))\n",
    "    input_query.append(len(q2.split(\" \")))\n",
    "    \n",
    "    input_query.append(test_common_words(q1,q2))\n",
    "    input_query.append(test_total_words(q1,q2))\n",
    "    input_query.append(round(test_common_words(q1,q2)/test_total_words(q1,q2),2))\n",
    "    \n",
    "    # fetch token features\n",
    "    token_features = test_fetch_token_features(q1,q2)\n",
    "    input_query.extend(token_features)\n",
    "    \n",
    "    # fetch length based features\n",
    "    length_features = test_fetch_length_features(q1,q2)\n",
    "    input_query.extend(length_features)\n",
    "    \n",
    "    \n",
    "    # bow feature for q1\n",
    "    q1_bow = cv.transform([q1]).toarray()\n",
    "    \n",
    "    # bow feature for q2\n",
    "    q2_bow = cv.transform([q2]).toarray()\n",
    "    \n",
    "    \n",
    "    \n",
    "    return np.hstack((np.array(input_query).reshape(1,18),q1_bow,q2_bow))"
   ]
  },
  {
   "cell_type": "code",
   "execution_count": 69,
   "id": "e9057e04-22eb-44d6-aed3-913f9d5381ec",
   "metadata": {},
   "outputs": [],
   "source": [
    "q1 = 'Where is the capital of India?'\n",
    "q2 = 'What is the business capital of India?'"
   ]
  },
  {
   "cell_type": "code",
   "execution_count": 70,
   "id": "443331e4-b1c1-499c-8e14-290aed82decf",
   "metadata": {},
   "outputs": [
    {
     "data": {
      "text/plain": [
       "array([0], dtype=int64)"
      ]
     },
     "execution_count": 70,
     "metadata": {},
     "output_type": "execute_result"
    }
   ],
   "source": [
    "rf.predict(predicting_function(q1,q2))"
   ]
  },
  {
   "cell_type": "code",
   "execution_count": 73,
   "id": "0f38dd93-3be3-4e0c-92c0-c5a16d882fb1",
   "metadata": {},
   "outputs": [],
   "source": [
    "import pickle\n",
    "\n",
    "pickle.dump(rf,open('model.pkl','wb'))\n",
    "pickle.dump(cv,open('cv.pkl','wb'))"
   ]
  },
  {
   "cell_type": "code",
   "execution_count": null,
   "id": "b7b8fbe6-cd0e-4a39-8dc3-502286f24aef",
   "metadata": {},
   "outputs": [],
   "source": []
  }
 ],
 "metadata": {
  "kernelspec": {
   "display_name": "Python 3 (ipykernel)",
   "language": "python",
   "name": "python3"
  },
  "language_info": {
   "codemirror_mode": {
    "name": "ipython",
    "version": 3
   },
   "file_extension": ".py",
   "mimetype": "text/x-python",
   "name": "python",
   "nbconvert_exporter": "python",
   "pygments_lexer": "ipython3",
   "version": "3.9.12"
  }
 },
 "nbformat": 4,
 "nbformat_minor": 5
}
